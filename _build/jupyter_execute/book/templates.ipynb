{
 "cells": [
  {
   "cell_type": "markdown",
   "id": "6601b22a",
   "metadata": {},
   "source": [
    "# Micellaneous templates for MyST syntax\n",
    "\n",
    "Inline directive to refer to a document: {doc}`W2 - Exercise`.\n",
    "\n",
    "Citing: {cite}`Rokem2023`.\n",
    "\n",
    "Code cells with a directive like so:"
   ]
  },
  {
   "cell_type": "code",
   "execution_count": 1,
   "id": "cb57f63b",
   "metadata": {},
   "outputs": [
    {
     "name": "stdout",
     "output_type": "stream",
     "text": [
      "4\n"
     ]
    }
   ],
   "source": [
    "print(2 + 2)"
   ]
  },
  {
   "cell_type": "markdown",
   "id": "2961e690",
   "metadata": {},
   "source": [
    "Boxes. Possible classes are:\n",
    "- blue: note, important\n",
    "- green: hint, seealso, tip\n",
    "- yellow: attention, caution, warning\n",
    "- red: danger, error\n",
    "\n",
    "```{admonition} Summary\n",
    ":class: tip\n",
    "\n",
    "Hello world\n",
    "```"
   ]
  }
 ],
 "metadata": {
  "jupytext": {
   "formats": "md:myst",
   "text_representation": {
    "extension": ".md",
    "format_name": "myst",
    "format_version": 0.13,
    "jupytext_version": "1.11.5"
   }
  },
  "kernelspec": {
   "display_name": "Python 3",
   "language": "python",
   "name": "python3"
  },
  "language_info": {
   "codemirror_mode": {
    "name": "ipython",
    "version": 3
   },
   "file_extension": ".py",
   "mimetype": "text/x-python",
   "name": "python",
   "nbconvert_exporter": "python",
   "pygments_lexer": "ipython3",
   "version": "3.11.5"
  },
  "source_map": [
   13,
   23,
   25
  ]
 },
 "nbformat": 4,
 "nbformat_minor": 5
}