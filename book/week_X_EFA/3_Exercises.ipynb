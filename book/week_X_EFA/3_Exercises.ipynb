{
 "cells": [
  {
   "cell_type": "markdown",
   "metadata": {},
   "source": [
    "# X.3 Exercises"
   ]
  },
  {
   "cell_type": "markdown",
   "metadata": {},
   "source": [
    "## Exercise 1: Preparation and data exploration"
   ]
  },
  {
   "cell_type": "markdown",
   "metadata": {},
   "source": [
    "Load the `diabetes` dataset from the `sklearnlibrary` and use `dataset.DESCR` to read the dataset description. A few weeks ago we used these variables to predict the presence of diabetes. This week, the goal is to explore the data, aiming to find underlying factors influencing the variables. Inspect the data and plot the correlation matrix."
   ]
  },
  {
   "cell_type": "code",
   "execution_count": null,
   "metadata": {},
   "outputs": [],
   "source": [
    "# Load packages\n",
    "import pandas as pd\n",
    "import seaborn as sns\n",
    "import matplotlib.pyplot as plt\n",
    "from sklearn import datasets\n",
    "\n",
    "# Load the diabetes dataset from sklearn\n",
    "df = datasets.load_diabetes(as_frame=True)\n",
    "# We only want the predictors\n",
    "df = df.data\n",
    "# Drop  not needed columns\n",
    "df = df.drop(columns=['age', 'sex', 'bmi', 'bp'])\n",
    "\n",
    "\n",
    "# Inspect the data\n",
    "\n",
    "\n",
    "# Plot the correlation matrix\n",
    "\n",
    "\n",
    "##solution\n",
    "print(df)\n",
    "\n",
    "plt.matshow(df.corr())\n",
    "plt.show()"
   ]
  },
  {
   "cell_type": "markdown",
   "metadata": {},
   "source": [
    "## Exercise 2"
   ]
  },
  {
   "cell_type": "markdown",
   "metadata": {},
   "source": [
    "Use `factor_analyzer` package to fit a first non-rotated MINRES EFA model where n factors = n variables. After fitting the model, determine the number of factros using a method of your choice.  "
   ]
  },
  {
   "cell_type": "code",
   "execution_count": null,
   "metadata": {},
   "outputs": [],
   "source": [
    "# Load packages\n",
    "from factor_analyzer import FactorAnalyzer\n",
    "\n",
    "# Fit the initial model\n",
    "\n",
    "# Determine the number of factors\n",
    "\n",
    "##solution\n",
    "fa = FactorAnalyzer(rotation=None, method = 'minres', n_factors=6) #6 variables = max. 6 factors\n",
    "fa.fit(df)\n",
    "\n",
    "ev, cfev = fa.get_eigenvalues() \n",
    "print(ev)\n",
    "\n",
    "plt.plot(ev)\n",
    "plt.xlabel(\"factor\")\n",
    "plt.ylabel(\"eigenvalue\")"
   ]
  },
  {
   "cell_type": "markdown",
   "metadata": {},
   "source": [
    "## Exercise 3"
   ]
  },
  {
   "cell_type": "markdown",
   "metadata": {},
   "source": [
    "After selecting the number of factors, fit a final model. Use a MINRES model, similar to the first model. This time, use oblimin roation. Print the rotated factor loadings and communalities. Do the communalities suggest a good model fit?"
   ]
  },
  {
   "cell_type": "code",
   "execution_count": 32,
   "metadata": {},
   "outputs": [
    {
     "name": "stdout",
     "output_type": "stream",
     "text": [
      "[[ 1.04095052 -0.06391605]\n",
      " [ 0.79721715  0.14763963]\n",
      " [ 0.23543194 -0.9377997 ]\n",
      " [ 0.36511128  0.81892308]\n",
      " [ 0.33348504  0.4689968 ]\n",
      " [ 0.24832245  0.34203792]]\n",
      "[1.08766324 0.65735264 0.93489648 0.80394125 0.33117028 0.17865398]\n"
     ]
    }
   ],
   "source": [
    "# Fit the final model\n",
    "\n",
    "# Get factors loadings\n",
    "\n",
    "# Get communalities\n",
    "\n",
    "##solution\n",
    "fa2 = FactorAnalyzer(n_factors=2, rotation='oblimin', method='minres')\n",
    "fa2.fit(df)\n",
    "\n",
    "l = fa2.loadings_\n",
    "print(l)\n",
    "\n",
    "c = fa2.get_communalities()\n",
    "print(c)"
   ]
  }
 ],
 "metadata": {
  "kernelspec": {
   "display_name": "psy111",
   "language": "python",
   "name": "python3"
  },
  "language_info": {
   "codemirror_mode": {
    "name": "ipython",
    "version": 3
   },
   "file_extension": ".py",
   "mimetype": "text/x-python",
   "name": "python",
   "nbconvert_exporter": "python",
   "pygments_lexer": "ipython3",
   "version": "3.12.4"
  }
 },
 "nbformat": 4,
 "nbformat_minor": 2
}
