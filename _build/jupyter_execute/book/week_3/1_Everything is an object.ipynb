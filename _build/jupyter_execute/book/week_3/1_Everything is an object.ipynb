{
 "cells": [
  {
   "cell_type": "markdown",
   "id": "bf1b28ad",
   "metadata": {},
   "source": [
    "# 3.1 Everything is an Object\n",
    "\n",
    "So far, and analogous to many other programming languages, you mught think of data types like strings or integers as *primitive* data types, which means that they are built into the core of the language to behave in special ways and to not be changed or modified in any way. And this is true in many\n",
    "other programming languages like C++. where you will have to explicitly tell the program what type of variable you want to create.\n",
    "\n",
    "In Python this is a bit different and there aren't *really* any primitive datata types, as it is a deeply *object-oriented* programming language. In Python, *everything is an object*. Strings are objects, integers are objects, lists are objects, dictionairies are objects, and so fourth. We will come back to that concept in detail later today, but for now let us just focus on some practical implications this will bring.\n",
    "\n",
    "\n",
    "## The dot notation\n",
    "\n",
    "Let's start with the dot (.) notation. As you probably already noticed, we previously worked with our variables in two different ways. First, there is a functional syntax, where we pass an object (e.g. a list) as an argument to a function:"
   ]
  },
  {
   "cell_type": "code",
   "execution_count": 1,
   "id": "f9318ff2",
   "metadata": {},
   "outputs": [
    {
     "data": {
      "text/plain": [
       "4"
      ]
     },
     "execution_count": 1,
     "metadata": {},
     "output_type": "execute_result"
    }
   ],
   "source": [
    "len([4,3,2,1])"
   ]
  },
  {
   "cell_type": "markdown",
   "id": "7305d10c",
   "metadata": {},
   "source": [
    "A function is a specific, reusable piece of code, that performs a specific action. In this case, the `len()` function calculates the length of the list given to it as an argument. It then returns some kind of result, which we can print or save as a new variable. Second, there is the object-oriented syntax which you previously saw when working with strings:"
   ]
  },
  {
   "cell_type": "code",
   "execution_count": 2,
   "id": "6c7ac8d3",
   "metadata": {},
   "outputs": [
    {
     "data": {
      "text/plain": [
       "'hello world'"
      ]
     },
     "execution_count": 2,
     "metadata": {},
     "output_type": "execute_result"
    }
   ],
   "source": [
    "text = \"Hello World\"\n",
    "text.lower()"
   ]
  },
  {
   "cell_type": "markdown",
   "id": "51cae6c6",
   "metadata": {},
   "source": [
    "If you have previously only worked with data-centric languages like MATLAB you might find this a bit confusing. But don't worry, it essentially means that we simply call a function attached to the object (in this case the string). Such object specfic functions are called *methods*, so if you use `text.lower()` it will simply call the `.lower()` method of the string object. The dot operator expresses a relationship of belonging, so you can intuitively read `text.lower()` as \"on the text variable, use the .lower() method which belongs to it\".\n",
    "\n",
    "\n",
    "### Inspecting objects\n",
    "\n",
    "One implication of everything being an object in Python is that we might need to find out what kind of data an object contains and which methods it implements, as this might not always be obvious from just looking at the variable itself. We will not go into too much detail, but briefly introduce some simple ways for you to interrogate objects.\n",
    "\n",
    "First, you can always see the type of an object by using the built-in `type()` function:"
   ]
  },
  {
   "cell_type": "code",
   "execution_count": 3,
   "id": "b19720e2",
   "metadata": {},
   "outputs": [
    {
     "data": {
      "text/plain": [
       "list"
      ]
     },
     "execution_count": 3,
     "metadata": {},
     "output_type": "execute_result"
    }
   ],
   "source": [
    "my_list = [1, 2, 3]\n",
    "type(my_list)"
   ]
  },
  {
   "cell_type": "markdown",
   "id": "1d4127d4",
   "metadata": {},
   "source": [
    "Second, the `dir()` function will show you all methods implemented by an object as well as their *static attributes*, which are variables stored whithin the object (they often start and end with two underscores)."
   ]
  },
  {
   "cell_type": "code",
   "execution_count": 4,
   "id": "95abd63b",
   "metadata": {},
   "outputs": [
    {
     "data": {
      "text/plain": [
       "['__add__',\n",
       " '__class__',\n",
       " '__class_getitem__',\n",
       " '__contains__',\n",
       " '__delattr__',\n",
       " '__delitem__',\n",
       " '__dir__',\n",
       " '__doc__',\n",
       " '__eq__',\n",
       " '__format__',\n",
       " '__ge__',\n",
       " '__getattribute__',\n",
       " '__getitem__',\n",
       " '__getstate__',\n",
       " '__gt__',\n",
       " '__hash__',\n",
       " '__iadd__',\n",
       " '__imul__',\n",
       " '__init__',\n",
       " '__init_subclass__',\n",
       " '__iter__',\n",
       " '__le__',\n",
       " '__len__',\n",
       " '__lt__',\n",
       " '__mul__',\n",
       " '__ne__',\n",
       " '__new__',\n",
       " '__reduce__',\n",
       " '__reduce_ex__',\n",
       " '__repr__',\n",
       " '__reversed__',\n",
       " '__rmul__',\n",
       " '__setattr__',\n",
       " '__setitem__',\n",
       " '__sizeof__',\n",
       " '__str__',\n",
       " '__subclasshook__',\n",
       " 'append',\n",
       " 'clear',\n",
       " 'copy',\n",
       " 'count',\n",
       " 'extend',\n",
       " 'index',\n",
       " 'insert',\n",
       " 'pop',\n",
       " 'remove',\n",
       " 'reverse',\n",
       " 'sort']"
      ]
     },
     "execution_count": 4,
     "metadata": {},
     "output_type": "execute_result"
    }
   ],
   "source": [
    "dir(my_list)"
   ]
  },
  {
   "cell_type": "markdown",
   "id": "67b31faa",
   "metadata": {},
   "source": [
    "Here you can see, that the list object implements 11 different methods starting with `append`. All of these *attributes* are available to you to access or call (if they are a function) through the dot notation: `my_list.__class__` or `my_list.append()`.\n",
    "\n",
    "```{admonition} Summary\n",
    ":class: tip\n",
    "\n",
    "Everything in Python is an object!\n",
    "\n",
    "- Functions like `len()` are standalone blocks of code that can be called independently of objects.\n",
    "- Methods like `.lower()` are functions that belong to objects.\n",
    "- You can inspect the type and content of objects with the `type()` and `dir()` functions.\n",
    "```"
   ]
  }
 ],
 "metadata": {
  "jupytext": {
   "formats": "md:myst",
   "text_representation": {
    "extension": ".md",
    "format_name": "myst",
    "format_version": 0.13,
    "jupytext_version": "1.11.5"
   }
  },
  "kernelspec": {
   "display_name": "Python 3",
   "language": "python",
   "name": "python3"
  },
  "language_info": {
   "codemirror_mode": {
    "name": "ipython",
    "version": 3
   },
   "file_extension": ".py",
   "mimetype": "text/x-python",
   "name": "python",
   "nbconvert_exporter": "python",
   "pygments_lexer": "ipython3",
   "version": "3.11.5"
  },
  "source_map": [
   13,
   27,
   29,
   33,
   36,
   47,
   50,
   54,
   56
  ]
 },
 "nbformat": 4,
 "nbformat_minor": 5
}