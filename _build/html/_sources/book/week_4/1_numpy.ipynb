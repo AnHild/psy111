{
 "cells": [
  {
   "cell_type": "markdown",
   "id": "d0f04c67",
   "metadata": {},
   "source": [
    "# Numpy\n",
    "\n",
    "The [numpy package](https://numpy.org/) is the fundamental package for scientific computing with Python. It implements a wide range of functionalities for creating N-dimensional arrays and mathematical functions to deal with these data."
   ]
  }
 ],
 "metadata": {
  "jupytext": {
   "formats": "md:myst",
   "text_representation": {
    "extension": ".md",
    "format_name": "myst",
    "format_version": 0.13,
    "jupytext_version": "1.11.5"
   }
  },
  "kernelspec": {
   "display_name": "Python 3",
   "language": "python",
   "name": "python3"
  },
  "language_info": {
   "codemirror_mode": {
    "name": "ipython",
    "version": 3
   },
   "file_extension": ".py",
   "mimetype": "text/x-python",
   "name": "python",
   "nbconvert_exporter": "python",
   "pygments_lexer": "ipython3",
   "version": "3.11.5"
  },
  "source_map": [
   13
  ]
 },
 "nbformat": 4,
 "nbformat_minor": 5
}