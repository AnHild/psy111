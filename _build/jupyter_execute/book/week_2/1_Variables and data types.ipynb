{
 "cells": [
  {
   "cell_type": "markdown",
   "id": "c7a05424",
   "metadata": {},
   "source": [
    "# 2.1 Variables\n",
    "\n",
    "As in other programming languages, variables are used to store data of different values or types (hence the name *variable*). In Python, you declare a variable by writing its name and then assigning its value with the equal (=) sign:"
   ]
  },
  {
   "cell_type": "code",
   "execution_count": 1,
   "id": "ae430b07",
   "metadata": {},
   "outputs": [],
   "source": [
    "my_variable = 4"
   ]
  },
  {
   "cell_type": "markdown",
   "id": "d05d8589",
   "metadata": {},
   "source": [
    "Notice that when we initialize a variable, we do not need to specify its *type* (e.g. it being an integer or a string), as Python is *dynamically typed*, which means it figures out your desired variable type by itself once you run the program. This means, you can also simply overwrite your previously created variable with for example a character string:"
   ]
  },
  {
   "cell_type": "code",
   "execution_count": 2,
   "id": "a5e63088",
   "metadata": {},
   "outputs": [],
   "source": [
    "my_variable = \"Hello World\""
   ]
  },
  {
   "cell_type": "markdown",
   "id": "1b00a318",
   "metadata": {},
   "source": [
    "If you want to know what 's currently stored in your variable, you can use the `print()` function:"
   ]
  },
  {
   "cell_type": "code",
   "execution_count": 3,
   "id": "85309c6a",
   "metadata": {},
   "outputs": [
    {
     "name": "stdout",
     "output_type": "stream",
     "text": [
      "Hello World\n"
     ]
    }
   ],
   "source": [
    "print(my_variable)"
   ]
  },
  {
   "cell_type": "markdown",
   "id": "d37f6bd5",
   "metadata": {},
   "source": [
    "**Note:** If you are working in an interactive environment like the Jupyter notebooks which we will use in the exercises, you might not even need to write print as the last line of the code cell is automatically evaluated.\n",
    "\n",
    "```{admonition} Summary\n",
    ":class: tip\n",
    "\n",
    "Variables in Python work like in most other programming languages:\n",
    "\n",
    "- You assign values to them by using the equal (=) operator\n",
    "- You can print their content with the `print()` function\n",
    "```"
   ]
  }
 ],
 "metadata": {
  "jupytext": {
   "formats": "md:myst",
   "text_representation": {
    "extension": ".md",
    "format_name": "myst",
    "format_version": 0.13,
    "jupytext_version": "1.11.5"
   }
  },
  "kernelspec": {
   "display_name": "Python 3",
   "language": "python",
   "name": "python3"
  },
  "language_info": {
   "codemirror_mode": {
    "name": "ipython",
    "version": 3
   },
   "file_extension": ".py",
   "mimetype": "text/x-python",
   "name": "python",
   "nbconvert_exporter": "python",
   "pygments_lexer": "ipython3",
   "version": "3.11.5"
  },
  "source_map": [
   13,
   19,
   21,
   25,
   27,
   31,
   33
  ]
 },
 "nbformat": 4,
 "nbformat_minor": 5
}