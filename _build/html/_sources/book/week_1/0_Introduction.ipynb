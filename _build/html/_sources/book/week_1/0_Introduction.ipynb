{
 "cells": [
  {
   "cell_type": "markdown",
   "id": "780eda82",
   "metadata": {},
   "source": [
    "# W1 - Setting things up\n",
    "\n",
    "This book aims to be a standalone resource for the entire semester. Each session will start with a brief recap of the core concepts from the lecture and an introduction into the relevant Python tools. The second part will then let you apply the methods through hands-on exercises. These exercises can be done directly within the browser through [Google Colab](https://colab.research.google.com/), however the individual Jupyter Notebook files (`.ipynb`) can also be opened and run on your local computer.\n",
    "\n",
    "As this will most definitely be useful for your future research, we will start with setting up a working Python environment on your own computer."
   ]
  }
 ],
 "metadata": {
  "jupytext": {
   "formats": "md:myst",
   "text_representation": {
    "extension": ".md",
    "format_name": "myst",
    "format_version": 0.13,
    "jupytext_version": "1.11.5"
   }
  },
  "kernelspec": {
   "display_name": "Python 3",
   "language": "python",
   "name": "python3"
  },
  "language_info": {
   "codemirror_mode": {
    "name": "ipython",
    "version": 3
   },
   "file_extension": ".py",
   "mimetype": "text/x-python",
   "name": "python",
   "nbconvert_exporter": "python",
   "pygments_lexer": "ipython3",
   "version": "3.11.5"
  },
  "source_map": [
   13
  ]
 },
 "nbformat": 4,
 "nbformat_minor": 5
}