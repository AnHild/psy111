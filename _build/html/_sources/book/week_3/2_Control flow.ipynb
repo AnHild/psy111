{
 "cells": [
  {
   "cell_type": "markdown",
   "id": "843c6aea",
   "metadata": {},
   "source": [
    "# 3.2 Control flow\n",
    "\n",
    "In this chapter, we will explore the fundamentals of control flow in Python. Control flow allows you to dictate the order in which statements are executed, enabling your programs to make decisions and perform repetitive actions.\n",
    "\n",
    "## Conditionals\n",
    "\n",
    "Conditional statements (if-else statements) are essential for writing programs that can make decisions based on varying inputs and conditions. They help in implementing logic that responds differently depending on the circumstances."
   ]
  },
  {
   "cell_type": "code",
   "execution_count": 1,
   "id": "8dac9765",
   "metadata": {},
   "outputs": [
    {
     "name": "stdout",
     "output_type": "stream",
     "text": [
      "Number is equal to 5.\n"
     ]
    }
   ],
   "source": [
    "number = 5\n",
    "\n",
    "if number < 5:\n",
    "  print(\"Number is smaller than 5.\")\n",
    "elif number == 5:\n",
    "  print(\"Number is equal to 5.\")\n",
    "else:\n",
    "  print(\"Number is larger than 5.\")"
   ]
  },
  {
   "cell_type": "markdown",
   "id": "2c0cf9ff",
   "metadata": {},
   "source": [
    "Depending on the value of `number`, only the `print()` statement that matches the condition will be evaluated. The `else` statement acts as a *fallback* option, which means it will run only if none of the previous conditions are met. Both *elif* and *else* statements are optional; you could simply use *if* statements to handle every possible scenario. However, this can lead to worse code readability, especially if many decisions are possible.\n",
    "\n",
    "## Loops\n",
    "\n",
    "Loops allow us to *iterate* (or loop) over elements of a collection. Let's for example consider a list of numbers:"
   ]
  },
  {
   "cell_type": "code",
   "execution_count": 2,
   "id": "11445607",
   "metadata": {},
   "outputs": [
    {
     "name": "stdout",
     "output_type": "stream",
     "text": [
      "2\n",
      "4\n",
      "6\n",
      "8\n",
      "10\n"
     ]
    }
   ],
   "source": [
    "list_of_numbers = [2, 4, 6, 8, 10]\n",
    "\n",
    "for number in list_of_numbers:\n",
    "  print(number)"
   ]
  },
  {
   "cell_type": "markdown",
   "id": "0c92c789",
   "metadata": {},
   "source": [
    "Here, we loop over each item/element of the list starting from the first. In each iteration of the loop, we assign the value to a variable called `number` which is then printed. `number` is a temporary variable, which means it will only exist whithin the scope of the loop and not anymore after.\n",
    "\n",
    "**Looping over a range**\n",
    "\n",
    "A very common use case of loops is to perform a specific action *n* times. For example, if you have 30 participants in your study, you want to iterate over all of them to perform some action. For this, you can use the built-in `range()` function to provide a range of numbers:"
   ]
  },
  {
   "cell_type": "code",
   "execution_count": 3,
   "id": "b4e8a0ba",
   "metadata": {},
   "outputs": [
    {
     "name": "stdout",
     "output_type": "stream",
     "text": [
      "Range 1:\n",
      "0\n",
      "1\n",
      "2\n",
      "3\n",
      "Range 2:\n",
      "1\n",
      "3\n",
      "5\n",
      "7\n",
      "9\n"
     ]
    }
   ],
   "source": [
    "print(\"Range 1:\")\n",
    "for r in range(4):\n",
    "  print(r)\n",
    "\n",
    "print(\"Range 2:\")\n",
    "for r in range(1,10,2):\n",
    "  print(r)\n"
   ]
  },
  {
   "cell_type": "markdown",
   "id": "e1d194ca",
   "metadata": {},
   "source": [
    "Note that, as with the `len()` function, the end point of the `range()` function is exclusive, meaning it will create a sequence of numbers from 1 to 3. You can further also provide only a single number (like the length of a list) and use the numbers created by range as *indices* to index another variable:"
   ]
  },
  {
   "cell_type": "code",
   "execution_count": 4,
   "id": "90b066b2",
   "metadata": {},
   "outputs": [
    {
     "name": "stdout",
     "output_type": "stream",
     "text": [
      "apple\n",
      "banana\n",
      "3\n",
      "4\n"
     ]
    }
   ],
   "source": [
    "my_list = [\"apple\", \"banana\", 3, 4]\n",
    "list_length = len(my_list)\n",
    "\n",
    "for i in range(list_length):\n",
    "  print(my_list[i])"
   ]
  },
  {
   "cell_type": "markdown",
   "id": "181b29c7",
   "metadata": {},
   "source": [
    "## Nested statements\n",
    "\n",
    "In more complex analyses, you often need to nest multiple statements inside one another. If you for example want to iterate over an entire list and perform an action only for specific items of the list you could to this as follows:"
   ]
  },
  {
   "cell_type": "code",
   "execution_count": 5,
   "id": "7013e68b",
   "metadata": {},
   "outputs": [
    {
     "name": "stdout",
     "output_type": "stream",
     "text": [
      "Not a banana.\n",
      "Banana!\n",
      "Not a banana.\n",
      "Not a banana.\n"
     ]
    }
   ],
   "source": [
    "my_list = [\"apple\", \"banana\", 3, 4]\n",
    "\n",
    "for item in my_list:\n",
    "  if item == \"banana\":\n",
    "    print(\"Banana!\")\n",
    "  else:\n",
    "    print(\"Not a banana.\")"
   ]
  },
  {
   "cell_type": "markdown",
   "id": "40b40839",
   "metadata": {},
   "source": [
    "## Whitespace is syntactically required\n",
    "\n",
    "One important thing which we have not yet covered explicitly is how the code whithin if-statements or for-loops is indented (shifted to the right). You might think this is just a way of making the code easier to read, and that would be true for almost all other programming languages. However, Python is a bit different in that regard by **requiring** you to use whitespace with certain rules.\n",
    "\n",
    "Simply put, whenever you use a *compound statement* (which includes for-loops, conditionals, and also classes and functions which we will cover later), you need to increase the indentation of your code. Once you exit the compound statement, you decrease the indentation level by the same amount. The amound of this indentation is technically up to you, however the Python style guide recommends you to use four spaces. As an example, if we want to continue with the script after the for-loop, we would reset the indentation to the same level as the first for:"
   ]
  },
  {
   "cell_type": "code",
   "execution_count": 6,
   "id": "21dcfb2d",
   "metadata": {},
   "outputs": [
    {
     "name": "stdout",
     "output_type": "stream",
     "text": [
      "Banana!\n",
      "Continue after the for-loop...\n"
     ]
    }
   ],
   "source": [
    "for item in my_list:\n",
    "  if item == \"banana\":\n",
    "    print(\"Banana!\")\n",
    "\n",
    "print(\"Continue after the for-loop...\")"
   ]
  }
 ],
 "metadata": {
  "jupytext": {
   "formats": "md:myst",
   "text_representation": {
    "extension": ".md",
    "format_name": "myst",
    "format_version": 0.13,
    "jupytext_version": "1.11.5"
   }
  },
  "kernelspec": {
   "display_name": "Python 3",
   "language": "python",
   "name": "python3"
  },
  "language_info": {
   "codemirror_mode": {
    "name": "ipython",
    "version": 3
   },
   "file_extension": ".py",
   "mimetype": "text/x-python",
   "name": "python",
   "nbconvert_exporter": "python",
   "pygments_lexer": "ipython3",
   "version": "3.11.5"
  },
  "source_map": [
   13,
   23,
   32,
   40,
   45,
   53,
   62,
   66,
   72,
   78,
   86,
   94
  ]
 },
 "nbformat": 4,
 "nbformat_minor": 5
}