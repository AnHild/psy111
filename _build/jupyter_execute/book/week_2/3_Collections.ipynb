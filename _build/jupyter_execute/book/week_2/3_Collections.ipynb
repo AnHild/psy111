{
 "cells": [
  {
   "cell_type": "markdown",
   "id": "6451fb14",
   "metadata": {},
   "source": [
    "# 2.3 Collections\n",
    "\n",
    "Variables containing only single values like an integer or a string will only get you so far. Many real-world applications for example require you to store a whole collection of values in a single data structure. Here, the most important and widely used solutions from the Python standard library are *lists*, *tuples*, and *dicts* (dictionaries).\n",
    "\n",
    "## Lists\n",
    "\n",
    "Lists are the most common collection in Python. They are a *heterogeneous* collection of objects, which means they are not limited to elements of a single type but can also multiple types if this is required. Lists are initalized through square brackets `[]` and its elements are separated through commas:"
   ]
  },
  {
   "cell_type": "code",
   "execution_count": 1,
   "id": "c130d8de",
   "metadata": {},
   "outputs": [],
   "source": [
    "empty_list = []\n",
    "random_stuff = [\"apple\", 3.14, True, 4]"
   ]
  },
  {
   "cell_type": "markdown",
   "id": "d0490f9c",
   "metadata": {},
   "source": [
    "### Indexing\n",
    "\n",
    "Lists are ordered collections, which means that the order of items is important and will not change unless we specifically change it. This allows us to access individual elements of the list by specifying their position, which is also called *index*. The process of acessing individual or multiple values from a data structure is analogously called *indexing*.\n",
    "\n",
    "To access the *i*th element in a list, we enclose the desired index *i* in square brackets. Note that Python, unlike for example MATLAB, uses zero-based indexing. This means the first element of a collection is at index 0, while index 1 returns the second element (and so forth)."
   ]
  },
  {
   "cell_type": "code",
   "execution_count": 2,
   "id": "c08543e7",
   "metadata": {},
   "outputs": [
    {
     "data": {
      "text/plain": [
       "'apple'"
      ]
     },
     "execution_count": 2,
     "metadata": {},
     "output_type": "execute_result"
    }
   ],
   "source": [
    "random_stuff[0]"
   ]
  },
  {
   "cell_type": "code",
   "execution_count": 3,
   "id": "4e29b07c",
   "metadata": {},
   "outputs": [
    {
     "data": {
      "text/plain": [
       "3.14"
      ]
     },
     "execution_count": 3,
     "metadata": {},
     "output_type": "execute_result"
    }
   ],
   "source": [
    "random_stuff[1]"
   ]
  },
  {
   "cell_type": "markdown",
   "id": "a10a30c5",
   "metadata": {},
   "source": [
    "### Slicing\n",
    "\n",
    "What if you do not just want to retrieve more than a single element from a list? For this we can use *slicing*, which uses the colon (:) operator:"
   ]
  },
  {
   "cell_type": "code",
   "execution_count": 4,
   "id": "8c562a72",
   "metadata": {},
   "outputs": [
    {
     "data": {
      "text/plain": [
       "[3.14, True]"
      ]
     },
     "execution_count": 4,
     "metadata": {},
     "output_type": "execute_result"
    }
   ],
   "source": [
    "random_stuff[1:3]"
   ]
  },
  {
   "cell_type": "markdown",
   "id": "3bf6ca14",
   "metadata": {},
   "source": [
    "The colon is used to seperate a starting and a stopping index. Intuitively you can read this notation as \"from random_stuff get items 1 to 3\". Note that the starting position is *inclusive* (meaning it includes the item at position 1, which in this case is *3.14*) while the stopping index is *exclusive* (meaning that the item at posititon 3, which here would be *4*, is not included).\n",
    "\n",
    "### Modifying lists\n",
    "\n",
    "Lists are *mutable* objects, which means they can be modified after they have been created. For example, we can replace a specific element with another element:"
   ]
  },
  {
   "cell_type": "code",
   "execution_count": 5,
   "id": "f35f856b",
   "metadata": {},
   "outputs": [
    {
     "name": "stdout",
     "output_type": "stream",
     "text": [
      "Before re-assignment: ['apple', 3.14, True, 4]\n",
      "After re-assignment: ['banana', 3.14, True, 4]\n"
     ]
    }
   ],
   "source": [
    "print(\"Before re-assignment:\", random_stuff)\n",
    "random_stuff[0] = \"banana\"\n",
    "print(\"After re-assignment:\", random_stuff)"
   ]
  },
  {
   "cell_type": "markdown",
   "id": "a265df84",
   "metadata": {},
   "source": [
    "Another common use case is to add new values to a list (for example once new results have been calculated). This can be done by using the `.append()` function on the list:"
   ]
  },
  {
   "cell_type": "code",
   "execution_count": 6,
   "id": "1e577392",
   "metadata": {},
   "outputs": [
    {
     "data": {
      "text/plain": [
       "['banana', 3.14, True, 4, 'goodbye']"
      ]
     },
     "execution_count": 6,
     "metadata": {},
     "output_type": "execute_result"
    }
   ],
   "source": [
    "random_stuff.append(\"goodbye\")\n",
    "random_stuff"
   ]
  },
  {
   "cell_type": "markdown",
   "id": "2e902216",
   "metadata": {},
   "source": [
    "## Tuples\n",
    "\n",
    "Tuples are similar to lists in that they are an ordered colletion of elements. However, they are *immutable* in nature, meaning you can not change their content after creating them. For creating tuples, you simply use the round brackets instead of the square ones:"
   ]
  },
  {
   "cell_type": "code",
   "execution_count": 7,
   "id": "442921a0",
   "metadata": {},
   "outputs": [],
   "source": [
    "my_tuple = (\"Hello\", 1, 2, 3, 4, 2, \"Goodbye\")"
   ]
  },
  {
   "cell_type": "markdown",
   "id": "d70c45cc",
   "metadata": {},
   "source": [
    "Tuples only have two built-in methods which are `.count()` and `.index()`:"
   ]
  },
  {
   "cell_type": "code",
   "execution_count": 8,
   "id": "80bdac0d",
   "metadata": {},
   "outputs": [
    {
     "name": "stdout",
     "output_type": "stream",
     "text": [
      "The first occurrence of 2 is at index: 2.\n",
      "The number 2 appears 2 times in the tuple.\n"
     ]
    }
   ],
   "source": [
    "first_occurrence = my_tuple.index(2)\n",
    "print(f\"The first occurrence of 2 is at index: {first_occurrence}.\")\n",
    "\n",
    "count_of_twos = my_tuple.count(2)\n",
    "print(f\"The number 2 appears {count_of_twos} times in the tuple.\")"
   ]
  },
  {
   "cell_type": "markdown",
   "id": "1147441d",
   "metadata": {},
   "source": [
    "In case you still need a mutable version of the tuple, you can convert any tuple to a list by using the `list()` function:"
   ]
  },
  {
   "cell_type": "code",
   "execution_count": 9,
   "id": "9ebc133c",
   "metadata": {},
   "outputs": [],
   "source": [
    "converted_from_tuple = list(my_tuple)"
   ]
  },
  {
   "cell_type": "markdown",
   "id": "b544530d",
   "metadata": {},
   "source": [
    "## Dictionaries\n",
    "\n",
    "Dictionaries (*dicts*) are another popular data structure. In short, dicts are mappings from keys to values. You can think of them as key/value pairs, where keys within a single dictionary need to be unique, while the values do not. Most programming languages have similar structures, for example [in MATLAB](https://de.mathworks.com/help/matlab/ref/containers.map.html) they are called *maps*.\n",
    "\n",
    "Dictionaries are created by using curly brackets, and can either be initialized as empty of with key/value pairs separated by commas."
   ]
  },
  {
   "cell_type": "code",
   "execution_count": 10,
   "id": "fc7da83e",
   "metadata": {},
   "outputs": [],
   "source": [
    "empty_dict = {}\n",
    "\n",
    "example_dict = {\n",
    "  \"name\": \"Alice\",\n",
    "  \"age\": 26,\n",
    "  1: \"integer_key\",\n",
    "  (1, 2): \"tuple_key\",\n",
    "  \"list_value:\": [0.5, 0.3]\n",
    "}"
   ]
  },
  {
   "cell_type": "markdown",
   "id": "dd76ec0e",
   "metadata": {},
   "source": [
    "As you can see, dicts are quite versatile. Keys are required to be *immutable* like a string, number, or tuple (this is so they do not unexpectedly change during your program and make things really messy). The values, however, can be of any type you want!\n",
    "\n",
    "Accessing values stored in a dictionary is slightly different. While you previously accessed items in lists by their index, values in a dictionary are not ordered and have to be accessed by their key. The syntax is identical to that used for list indexing, we specify the key as a string between square brackets:"
   ]
  },
  {
   "cell_type": "code",
   "execution_count": 11,
   "id": "912995ea",
   "metadata": {},
   "outputs": [
    {
     "data": {
      "text/plain": [
       "'Alice'"
      ]
     },
     "execution_count": 11,
     "metadata": {},
     "output_type": "execute_result"
    }
   ],
   "source": [
    "example_dict[\"name\"]"
   ]
  },
  {
   "cell_type": "markdown",
   "id": "cd6ac86f",
   "metadata": {},
   "source": [
    "Dictionaries can be updated or, if the key does not exist yet, extended through the same []-based syntax, except you now have to make an assignement using the (=) operator:"
   ]
  },
  {
   "cell_type": "code",
   "execution_count": 12,
   "id": "1bf25a0f",
   "metadata": {},
   "outputs": [],
   "source": [
    "example_dict[\"age\"] = 27"
   ]
  },
  {
   "cell_type": "markdown",
   "id": "a82e0ac5",
   "metadata": {},
   "source": [
    "```{admonition} Summary\n",
    ":class: tip\n",
    "\n",
    "The three main collection types in Python are:\n",
    "\n",
    "- Lists `my_list = [\"a\",\"b\",\"c\"]`\n",
    "- Tuples `my_tuple = (1,2,3)`\n",
    "- Dictionaries `my_dict = {\"course\": \"psy111\"}`\n",
    "```"
   ]
  }
 ],
 "metadata": {
  "jupytext": {
   "formats": "md:myst",
   "text_representation": {
    "extension": ".md",
    "format_name": "myst",
    "format_version": 0.13,
    "jupytext_version": "1.11.5"
   }
  },
  "kernelspec": {
   "display_name": "Python 3",
   "language": "python",
   "name": "python3"
  },
  "language_info": {
   "codemirror_mode": {
    "name": "ipython",
    "version": 3
   },
   "file_extension": ".py",
   "mimetype": "text/x-python",
   "name": "python",
   "nbconvert_exporter": "python",
   "pygments_lexer": "ipython3",
   "version": "3.12.4"
  },
  "source_map": [
   13,
   23,
   26,
   34,
   38,
   40,
   46,
   48,
   56,
   60,
   64,
   67,
   73,
   75,
   79,
   85,
   89,
   91,
   99,
   109,
   115,
   117,
   121,
   123
  ]
 },
 "nbformat": 4,
 "nbformat_minor": 5
}