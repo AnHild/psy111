{
 "cells": [
  {
   "cell_type": "markdown",
   "id": "9f72d573",
   "metadata": {},
   "source": [
    "# 3.5 Classes\n",
    "\n",
    "So far, we have already covered the most essential concepts in Python. And if you are really eager to start with actually using Python for real applications you will already be able to go a pretty long way. However, understanding classes is a central part of understanding how Python really works under the hood, and is essential for mastering the language and for implementing larger projects.\n",
    "\n",
    "As previously mentioned, [everything in Python is an object](1_Everything_is_an_object). The key cocept behind this is the object-oriented programming (OOP) paradigm central to many programming languages. I will try to briefly these concepts in this chapter, however, do not worry if you feel like these concepts do not immediately make sense to you. Learning a programming language is like learning a real language and takes time. I am however convinced that once the semester goes on many of these newly introduced concepts will already start to click as you work your way through the exercises.\n",
    "\n",
    "## So what is a class?\n",
    "\n",
    "A class is, in a sense, a kind of template for an object. You can think of it as a set of rules and instructions what an object of a given kind can do. Let us start with the simplest example of a class and built on top of that."
   ]
  },
  {
   "cell_type": "code",
   "execution_count": 1,
   "id": "56749d7e",
   "metadata": {},
   "outputs": [],
   "source": [
    "class Circle:\n",
    "  pass"
   ]
  },
  {
   "cell_type": "markdown",
   "id": "ffd6ca20",
   "metadata": {},
   "source": [
    "These two lines of code already define a perfectly valid class called `Circle` (note that it starts with a capital C, which is a naming convention for classes). The `pass` statement is used as a placeholder to tell the Python interpreter that it should not expect any more code to follow for the class.\n",
    "\n",
    "## Creating instances\n",
    "\n",
    "So what can we do with the Circle class? It doesn't particularly look useful, does it? However, we can already do the most important thing we can do with a class, we can create a new *instance* of said class, which is to say we create objects whose behavior is defined by the `Circle` class. You can kind of imagine this as drawing different circles on a piece of paper. All of them are circles, but none of them would be the actual definition of a circle.\n",
    "\n",
    "The syntax for creating an instance in Python is simple:"
   ]
  },
  {
   "cell_type": "code",
   "execution_count": 2,
   "id": "79bd9107",
   "metadata": {},
   "outputs": [],
   "source": [
    "my_circle = Circle()"
   ]
  },
  {
   "cell_type": "markdown",
   "id": "e5a30a07",
   "metadata": {},
   "source": [
    "The `my_circle` variable contains an object, which is a specific instance of the `Circle` class. As of now, this object does neither contain any important information nor can it do anything.\n",
    "\n",
    "## Making it do things\n",
    "\n",
    "Let's start by providing some features to the `Circle` class:"
   ]
  },
  {
   "cell_type": "code",
   "execution_count": 3,
   "id": "8e2412d1",
   "metadata": {},
   "outputs": [],
   "source": [
    "from math import pi\n",
    "\n",
    "class Circle:\n",
    "  def __init__(self, radius):\n",
    "    self.radius = radius\n",
    "\n",
    "  def area(self):\n",
    "    return pi * self.radius**2"
   ]
  },
  {
   "cell_type": "markdown",
   "id": "0c9e5bbe",
   "metadata": {},
   "source": [
    "We now defined two *methods* (functions whithin a class). First, there is the `__init()__` method, which might look fairly strange to you. This is a so called *magic method*, which is the basic initialization that is used every time we create an instance of our class. The `__init()__` method has two arguments. The first parameter is called `self`. It is a mandatory argument for any method whithin a class to take a reference to the current instance (*itself* so to say). The second argument `radius` then the first actual argument which has to be provided if a circle object is created. Whithin the `__init()__` method, this argument is assigned to a variable called `self.radius` which makes it an *attribute* of the class instance.\n",
    "\n",
    "The `area()` method simply defines a way of calculating the area of the circle. As a method of the class it has access to all class attributes (variables starting with `self.`) and thus does not need any additional parameters other than the mandatory `self`.\n",
    "\n",
    "We can then use this newly updated Circle class as follows:"
   ]
  },
  {
   "cell_type": "code",
   "execution_count": 4,
   "id": "73f29d1e",
   "metadata": {},
   "outputs": [
    {
     "data": {
      "text/plain": [
       "50.26548245743669"
      ]
     },
     "execution_count": 4,
     "metadata": {},
     "output_type": "execute_result"
    }
   ],
   "source": [
    "my_circle = Circle(4)\n",
    "my_circle.area()"
   ]
  },
  {
   "cell_type": "markdown",
   "id": "ac7477d5",
   "metadata": {},
   "source": [
    "The first line creates an object of the Circle class with radius 4. We can then use the `.area()` method of that object to calculate its area. Pretty cool, huh? If we change the radius of the given circle, then the area will change as well:"
   ]
  },
  {
   "cell_type": "code",
   "execution_count": 5,
   "id": "ba323445",
   "metadata": {},
   "outputs": [
    {
     "data": {
      "text/plain": [
       "254.46900494077323"
      ]
     },
     "execution_count": 5,
     "metadata": {},
     "output_type": "execute_result"
    }
   ],
   "source": [
    "my_circle.radius = 9\n",
    "my_circle.area()"
   ]
  },
  {
   "cell_type": "markdown",
   "id": "4b586af0",
   "metadata": {},
   "source": [
    "## Magic methods\n",
    "\n",
    "We came across the concept of magic methods like the `__init()__` method that runs every time we create an instance of an object. There are many other methods like this, and the key concept already is that they are usually called implicitly when a certain operation is applied to an object, even though it does not look like the operation and the magic method hav anything to do with each other. That's what makes them magic!🪄\n",
    "\n",
    "You are probably already tired of me saying \"everything in Python is an object\". However, you will now see one of the deeper implications this has. *All operators in Python are just cleverly disguised method calls*. That means even if we write something seemingly basic like `4 * 3`, Python will implicitly call a magic method on the first operant (the number 4 as an object of the integer class), with the second operand being passed as an argument. This might sound a bit confusing, but"
   ]
  },
  {
   "cell_type": "code",
   "execution_count": 6,
   "id": "9d27e106",
   "metadata": {},
   "outputs": [
    {
     "data": {
      "text/plain": [
       "12"
      ]
     },
     "execution_count": 6,
     "metadata": {},
     "output_type": "execute_result"
    }
   ],
   "source": [
    "4 * 3"
   ]
  },
  {
   "cell_type": "markdown",
   "id": "c82bf1a9",
   "metadata": {},
   "source": [
    "under the hood is essentially just"
   ]
  },
  {
   "cell_type": "code",
   "execution_count": 7,
   "id": "fde914f9",
   "metadata": {},
   "outputs": [
    {
     "data": {
      "text/plain": [
       "12"
      ]
     },
     "execution_count": 7,
     "metadata": {},
     "output_type": "execute_result"
    }
   ],
   "source": [
    "(4).__mul__(3)"
   ]
  },
  {
   "cell_type": "markdown",
   "id": "2bdc8829",
   "metadata": {},
   "source": [
    "with the parentheses being necessary so the `.` is not confused to be a decimal point. This also works for strings:"
   ]
  },
  {
   "cell_type": "code",
   "execution_count": 8,
   "id": "ef3e8c52",
   "metadata": {},
   "outputs": [
    {
     "data": {
      "text/plain": [
       "'hello world'"
      ]
     },
     "execution_count": 8,
     "metadata": {},
     "output_type": "execute_result"
    }
   ],
   "source": [
    "\"hello\" + \" world\""
   ]
  },
  {
   "cell_type": "code",
   "execution_count": 9,
   "id": "64ad01ae",
   "metadata": {},
   "outputs": [
    {
     "data": {
      "text/plain": [
       "'hello world'"
      ]
     },
     "execution_count": 9,
     "metadata": {},
     "output_type": "execute_result"
    }
   ],
   "source": [
    "\"hello\".__add__(\" world\")"
   ]
  }
 ],
 "metadata": {
  "jupytext": {
   "formats": "md:myst",
   "text_representation": {
    "extension": ".md",
    "format_name": "myst",
    "format_version": 0.13,
    "jupytext_version": "1.11.5"
   }
  },
  "kernelspec": {
   "display_name": "Python 3",
   "language": "python",
   "name": "python3"
  },
  "language_info": {
   "codemirror_mode": {
    "name": "ipython",
    "version": 3
   },
   "file_extension": ".py",
   "mimetype": "text/x-python",
   "name": "python",
   "nbconvert_exporter": "python",
   "pygments_lexer": "ipython3",
   "version": "3.11.5"
  },
  "source_map": [
   13,
   25,
   28,
   38,
   40,
   48,
   57,
   65,
   68,
   72,
   75,
   83,
   85,
   89,
   91,
   95,
   99
  ]
 },
 "nbformat": 4,
 "nbformat_minor": 5
}