{
 "cells": [
  {
   "cell_type": "markdown",
   "metadata": {},
   "source": [
    "# 5.4 Exercises\n",
    "\n",
    "## Exercise 1: Correlations\n",
    "\n",
    "1. Load the `diabetes` dataset from the `sklearn`library and use `dataset.DESCR` to read the dataset description. Understand the variables, their meanings, and how they relate to the medical context (e.g., what each feature like BMI, age, and blood pressure represents in the context of diabetes).\n",
    "2. Using `pandas`, compute the **correlation matrix** for all features and the target variable (diabetes progression).\n",
    "3. Create a *heatmap* using `seaborn` to visually display the correlation matrix. Include annotations to display the exact correlation values inside each cell.\n",
    "4. Analyse the heatmap and identify the variable that shows the highest correlation (positive or negative) with the target variable (diabetes progression).\n"
   ]
  },
  {
   "cell_type": "code",
   "execution_count": null,
   "metadata": {},
   "outputs": [],
   "source": [
    "import pandas as pd\n",
    "import seaborn as sns\n",
    "import matplotlib.pyplot as plt\n",
    "from sklearn import datasets\n",
    "\n",
    "# Load the diabetes dataset from sklearn\n",
    "dataset = datasets.load_diabetes(as_frame=True)\n",
    "\n",
    "# Create observations matrix (X) and target vector (y)\n",
    "X, y = dataset.data, dataset.target\n",
    "\n",
    "# Create a unified DataFrame containing both predictors and target\n",
    "data = pd.concat([X, y.rename('diabetes')], axis=1)\n",
    "\n",
    "\n",
    "##solution\n",
    "\n",
    "# Calculate the correlation matrix using pandas (this avoids NumPy)\n",
    "correlation_matrix = data.corr()\n",
    "\n",
    "# Plot the correlation matrix using seaborn\n",
    "plt.figure(figsize=(8, 8))\n",
    "sns.heatmap(\n",
    "    correlation_matrix,\n",
    "    annot=True,  # Show the values of the correlations\n",
    "    cmap=\"vlag\",  # Colormap\n",
    "    vmin=-1,  # Min value for colormap\n",
    "    vmax=1,  # Max value for colormap\n",
    "    square=True,  # Square cells\n",
    "    fmt='.2f',  # Format float to 2 decimal points\n",
    "    annot_kws={'size': 12},  # Font size of annotations\n",
    "    xticklabels=correlation_matrix.columns,  # x-axis labels\n",
    "    yticklabels=correlation_matrix.columns  # y-axis labels\n",
    ")\n",
    "plt.title('Correlation Matrix Heatmap')\n",
    "plt.tight_layout()\n",
    "plt.show()\n",
    "\n"
   ]
  },
  {
   "cell_type": "markdown",
   "metadata": {},
   "source": [
    "## Exercise 2: Partial Correaltion\n",
    "Age could be influencing both BMI and diabetes progression. As people age, both their BMI and risk for diabetes may increase, which could inflate the observed correlation between BMI and diabetes. By holding age constant, we remove its effect and get a clearer picture of the true relationship between BMI and diabetes progression.\n",
    "\n",
    "1. Use the `Pingouin` library to calculate the **partial correlation** between BMI and diabetes progression, controlling for age.\n",
    "2. Did the Partial Correlation Decrease after controlling for age? Compare with the original Pearson correaltion."
   ]
  },
  {
   "cell_type": "code",
   "execution_count": null,
   "metadata": {},
   "outputs": [],
   "source": [
    "#solution\n",
    "import pingouin as pg\n",
    "\n",
    "# Calculate partial correlation between BMI and diabetes progression, controlling for age\n",
    "partial_corr = pg.partial_corr(data=data, x='bmi', y='diabetes', covar='age')\n",
    "\n",
    "# Display the results\n",
    "print(partial_corr)\n"
   ]
  },
  {
   "cell_type": "markdown",
   "metadata": {},
   "source": [
    "## Exercise 3: Multiple linear Regression\n",
    "1. Build a **multiple linear regression model** using the three highest correlated variables as the independent variables and diabetes progression as the dependent variable.\n",
    "2. What does the **R-squared value** tell you about the model’s performance? "
   ]
  },
  {
   "cell_type": "code",
   "execution_count": null,
   "metadata": {},
   "outputs": [],
   "source": [
    "#solution\n",
    "import statsmodels.api as sm\n",
    "import statsmodels.formula.api as smf\n",
    "model = smf.ols(formula='diabetes ~ bmi + bp + s5', data=data).fit()\n",
    "model.summary()"
   ]
  }
 ],
 "metadata": {
  "kernelspec": {
   "display_name": "psy111",
   "language": "python",
   "name": "python3"
  },
  "language_info": {
   "name": "python",
   "version": "3.12.4"
  }
 },
 "nbformat": 4,
 "nbformat_minor": 2
}
