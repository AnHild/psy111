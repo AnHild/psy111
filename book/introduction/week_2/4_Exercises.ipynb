{
 "cells": [
  {
   "cell_type": "markdown",
   "metadata": {},
   "source": [
    "# 2.4 Exercises"
   ]
  },
  {
   "cell_type": "markdown",
   "metadata": {},
   "source": [
    "## Exercise 1: Types\n",
    "\n",
    "The Python built-in `type()` will return the type of the variable given to it.\n",
    "\n",
    "1. Verify that a multiplication of two integers returns another int, while a division returns a float.\n",
    "2. Why do do you think that Python changes the result of a division into type float?"
   ]
  },
  {
   "cell_type": "code",
   "execution_count": 2,
   "metadata": {},
   "outputs": [],
   "source": [
    "# Exercise 1"
   ]
  },
  {
   "cell_type": "markdown",
   "metadata": {},
   "source": [
    "## Exercise 2: Strings\n",
    "\n",
    "You previously learned about functions like `.lower()` or `.replace()` which allow you to modify strings. But what about counting? Lets for example take the word *Llanfairpwllgwyngyllgogerychwyrndrobwllllantysiliogogogoch*, which is a town in Wales. Can you find a function that lets you count the number of times the combination of two subsequent L's (e.g. \"ll\") appear in that word? See if you can guess how the function could be called and used. Use the internet for help if necessary.\n",
    "\n",
    "1. Count the number of time two subsequent L's occur in the town name.\n",
    "2. Save the result to a new variable and print its value.\n",
    "3. The correct answer should be 5. If your result is different, check the string to see where you might have missed something."
   ]
  },
  {
   "cell_type": "code",
   "execution_count": 6,
   "metadata": {},
   "outputs": [
    {
     "name": "stdout",
     "output_type": "stream",
     "text": [
      "5\n"
     ]
    }
   ],
   "source": [
    "# Exercise 2\n",
    "town = \"Llanfairpwllgwyngyllgogerychwyrndrobwllllantysiliogogogoch\""
   ]
  },
  {
   "cell_type": "markdown",
   "metadata": {},
   "source": [
    "## Exercise 3: Booleans\n",
    "\n",
    "Some integer values are equivalent to Python Boolean values. \n",
    "1. Use the equality (==) operator to find the integer which is equivalent to `True`.\n",
    "2. Use the equality (==) operator to find the integer which is equivalent to `False`."
   ]
  },
  {
   "cell_type": "code",
   "execution_count": null,
   "metadata": {},
   "outputs": [],
   "source": [
    "# Exercise 3"
   ]
  },
  {
   "cell_type": "markdown",
   "metadata": {},
   "source": [
    "## Exercise 4: Indexing\n",
    "\n",
    "You previousy learned how to access specific elements of a list by enclosing an index in square brackets (`first_item = my_list[0]`). A useful feature in Python is that you can also start indexing from the back of a list by using negative numbers (`last_item = my_list[-1]`). Experiment with this for a bit and then answer/implement the following questions:\n",
    "\n",
    "1. What is the negative number index for the last item in the list?\n",
    "2. What is the negative number index for the first item in the list?\n",
    "3. Can you write code that would use a negative number to index the first item in the list,\n",
    "without advance knowledge of its length? Hint: A function introduced in the *Strings* section of the might be useful here.\n"
   ]
  },
  {
   "cell_type": "code",
   "execution_count": null,
   "metadata": {},
   "outputs": [],
   "source": [
    "# Exercise 4\n",
    "my_list = [\"Hello\", 1, 3.14, True, 5, 1234, \"Goodbye\"]"
   ]
  },
  {
   "cell_type": "markdown",
   "metadata": {},
   "source": [
    "## Exercise 5: Lists\n",
    "\n",
    "You previously learned about the `.append()` function for adding a new item to the end of a list. You can also add two lists together by using the plus (+) operator. Given the lists provided below, can you:\n",
    "\n",
    "1. Create a new list which combines list1 and list2\n",
    "2. Create a new list that has the items [6, 5, 1, 2, 3] by only using indexing operations and functions associated with lists?\n",
    "\n",
    "*Hint: Lists come with more functions like `.extend()` or `.reverse()`. You can find a full list in the [Python documentation](https://docs.python.org/3/tutorial/datastructures.html#more-on-lists).*\n"
   ]
  },
  {
   "cell_type": "code",
   "execution_count": null,
   "metadata": {},
   "outputs": [],
   "source": [
    "# Exercise 5\n",
    "list1 = [1, 2, 3]\n",
    "list2 = [4, 5, 6]\n"
   ]
  },
  {
   "cell_type": "markdown",
   "metadata": {},
   "source": [
    "## Exercise 6: Dictionaries\n",
    "\n",
    "Below you can see a dictionary containing the price of different fruits.\n",
    " \n",
    "1. Add another fruit to the dictionary. This fruit should have several different prices asso-\n",
    "ciated with it, organized as a list\n",
    "2. Access the second price in this list in a single line of code\n",
    "3. Print the newly added fruit and its the second price like so: \"The price of <your_fruit> is <second_price> €\".\n",
    "\n",
    "*Hint: You can use the previously introduced f-strings*"
   ]
  },
  {
   "cell_type": "code",
   "execution_count": 2,
   "metadata": {},
   "outputs": [
    {
     "data": {
      "text/plain": [
       "0.3"
      ]
     },
     "execution_count": 2,
     "metadata": {},
     "output_type": "execute_result"
    }
   ],
   "source": [
    "fruit_prices = {\n",
    "    \"apple\": 0.5,\n",
    "    \"banana\": 0.2,\n",
    "}"
   ]
  }
 ],
 "metadata": {
  "kernelspec": {
   "display_name": "Python 3",
   "language": "python",
   "name": "python3"
  },
  "language_info": {
   "codemirror_mode": {
    "name": "ipython",
    "version": 3
   },
   "file_extension": ".py",
   "mimetype": "text/x-python",
   "name": "python",
   "nbconvert_exporter": "python",
   "pygments_lexer": "ipython3",
   "version": "3.12.4"
  },
  "widgets": {
   "application/vnd.jupyter.widget-state+json": {
    "state": {},
    "version_major": 2,
    "version_minor": 0
   }
  }
 },
 "nbformat": 4,
 "nbformat_minor": 4
}
