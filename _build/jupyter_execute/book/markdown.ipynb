{
 "cells": [
  {
   "cell_type": "markdown",
   "id": "a9518881",
   "metadata": {},
   "source": [
    "# Content with MyST Markdown\n",
    "\n",
    "Whether you write your book's content in Jupyter Notebooks (`.ipynb`) or\n",
    "in regular markdown files (`.md`), you'll write in the same flavor of markdown\n",
    "called **MyST Markdown**.\n",
    "This is a simple file to help you get started and show off some syntax.\n",
    "\n",
    "## What is MyST?\n",
    "\n",
    "MyST stands for \"Markedly Structured Text\". It\n",
    "is a slight variation on a flavor of markdown called \"CommonMark\" markdown,\n",
    "with small syntax extensions to allow you to write **roles** and **directives**\n",
    "in the Sphinx ecosystem.\n",
    "\n",
    "For more about MyST, see [the MyST Markdown Overview](https://jupyterbook.org/content/myst.html).\n",
    "\n",
    "## Sample Roles and Directives\n",
    "\n",
    "Here is a \"note\" directive:\n",
    "\n",
    "```{note}\n",
    "Here is a note\n",
    "```\n",
    "\n",
    "It will be rendered in a special box when you build your book.\n",
    "\n",
    "Here is an inline directive to refer to a document: {doc}`notebooks`.\n",
    "\n",
    "\n",
    "## Citations\n",
    "\n",
    "You can also cite references that are stored in a `bibtex` file. For example,\n",
    "the following syntax: `` {cite}`Holdgraf2014` `` will render like\n",
    "this: {cite}`Holdgraf2014`.\n",
    "\n",
    "Moreover, you can insert a bibliography into your page with this syntax:\n",
    "The `{bibliography}` directive must be used for all the `{cite}` roles to\n",
    "render properly.\n",
    "For example, if the references for your book are stored in `references.bib`,\n",
    "then the bibliography is inserted with:\n",
    "\n",
    "```{bibliography}\n",
    "```\n",
    "\n",
    "Jupyter Book also lets you write text-based notebooks using MyST Markdown.\n",
    "See [the Notebooks with MyST Markdown documentation](https://jupyterbook.org/file-types/myst-notebooks.html) for more detailed instructions.\n",
    "This page shows off a notebook written in MyST Markdown.\n",
    "\n",
    "We can use these for introductory content that requires example code\n",
    "\n",
    "## An example cell\n",
    "\n",
    "With MyST Markdown, you can define code cells with a directive like so:"
   ]
  },
  {
   "cell_type": "code",
   "execution_count": 1,
   "id": "434c13b7",
   "metadata": {},
   "outputs": [
    {
     "name": "stdout",
     "output_type": "stream",
     "text": [
      "4\n"
     ]
    }
   ],
   "source": [
    "print(2 + 2)"
   ]
  }
 ],
 "metadata": {
  "jupytext": {
   "formats": "md:myst",
   "text_representation": {
    "extension": ".md",
    "format_name": "myst",
    "format_version": 0.13,
    "jupytext_version": "1.11.5"
   }
  },
  "kernelspec": {
   "display_name": "Python 3",
   "language": "python",
   "name": "python3"
  },
  "language_info": {
   "codemirror_mode": {
    "name": "ipython",
    "version": 3
   },
   "file_extension": ".py",
   "mimetype": "text/x-python",
   "name": "python",
   "nbconvert_exporter": "python",
   "pygments_lexer": "ipython3",
   "version": "3.11.5"
  },
  "source_map": [
   13,
   69
  ]
 },
 "nbformat": 4,
 "nbformat_minor": 5
}