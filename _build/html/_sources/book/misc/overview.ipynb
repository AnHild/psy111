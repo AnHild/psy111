{
 "cells": [
  {
   "cell_type": "markdown",
   "id": "1641234d",
   "metadata": {},
   "source": [
    "# Welcome to the psy111 Python seminar!\n",
    "\n",
    "This book contains the course content of the Multivariate Statistics (psy111) seminar. The first half of the semester will provide you with an introduction into Python and associated tools. The second half of the semester will focus on the practical application of statistical concepts discussed in the lecture.\n",
    "\n",
    "::::{grid} 1 1 2 3\n",
    ":class-container: text-center\n",
    ":gutter: 3\n",
    "\n",
    ":::{grid-item-card}\n",
    ":class-body: text-center\n",
    ":class-header: bg-light text-center\n",
    ":link: ../week_1/0_Introduction\n",
    ":link-type: doc\n",
    "Setting things up 🚀\n",
    "^^^\n",
    "```{image} https://encrypted-tbn0.gstatic.com/images?q=tbn:ANd9GcS9E5HZlsBUfIyQdZy53DBNd5c9aIxECWdFww&s\n",
    ":height: 100\n",
    "```\n",
    "+++\n",
    "Explore the chapter {fas}`arrow-right`\n",
    ":::\n",
    "\n",
    ":::{grid-item-card}\n",
    ":class-body: text-center\n",
    ":class-header: bg-light text-center\n",
    ":link: ../week_2/0_Introduction\n",
    ":link-type: doc\n",
    "Introduction to Python 🐍\n",
    "^^^\n",
    "```{image} https://i.pinimg.com/originals/82/a2/18/82a2188c985ce75402ae44fc43fe7e5e.png\n",
    ":height: 100\n",
    "```\n",
    "+++\n",
    "Explore the chapter {fas}`arrow-right`\n",
    ":::\n",
    "\n",
    ":::{grid-item-card}\n",
    ":class-body: text-center\n",
    ":class-header: bg-light text-center\n",
    ":link: ../statistics/statistics\n",
    ":link-type: doc\n",
    "Multivariate Statistics 📊\n",
    "^^^\n",
    "```{image} https://thumbs.dreamstime.com/b/statistics-linear-icon-modern-outline-logo-concept-o-white-background-business-analytics-collection-suitable-use-133515482.jpg\n",
    ":height: 100\n",
    "```\n",
    "+++\n",
    "Explore the chapter {fas}`arrow-right`\n",
    ":::\n",
    "\n",
    "::::"
   ]
  }
 ],
 "metadata": {
  "jupytext": {
   "formats": "md:myst",
   "text_representation": {
    "extension": ".md",
    "format_name": "myst",
    "format_version": 0.13,
    "jupytext_version": "1.11.5"
   }
  },
  "kernelspec": {
   "display_name": "Python 3",
   "language": "python",
   "name": "python3"
  },
  "language_info": {
   "codemirror_mode": {
    "name": "ipython",
    "version": 3
   },
   "file_extension": ".py",
   "mimetype": "text/x-python",
   "name": "python",
   "nbconvert_exporter": "python",
   "pygments_lexer": "ipython3",
   "version": "3.11.5"
  },
  "source_map": [
   13
  ]
 },
 "nbformat": 4,
 "nbformat_minor": 5
}