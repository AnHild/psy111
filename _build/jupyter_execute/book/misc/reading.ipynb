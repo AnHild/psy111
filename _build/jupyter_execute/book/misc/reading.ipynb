{
 "cells": [
  {
   "cell_type": "markdown",
   "id": "c9b637b4",
   "metadata": {},
   "source": [
    "# Additional reading\n",
    "\n",
    "Good starting points for further reading are for example:\n",
    "\n",
    "- Python documentation:   https://docs.python.org/3/\n",
    "- Stack overflow forum:   https://stackoverflow.com/\n",
    "- Harvard's CS50 course:  https://cs50.harvard.edu/python/2022/\n",
    "- Future coder platform:  https://futurecoder.io/\n",
    "- The Python coding book: https://thepythoncodingbook.com/\n",
    "- Automate boring stuff:  https://automatetheboringstuff.com/"
   ]
  }
 ],
 "metadata": {
  "jupytext": {
   "formats": "md:myst",
   "text_representation": {
    "extension": ".md",
    "format_name": "myst",
    "format_version": 0.13,
    "jupytext_version": "1.11.5"
   }
  },
  "kernelspec": {
   "display_name": "Python 3",
   "language": "python",
   "name": "python3"
  },
  "language_info": {
   "codemirror_mode": {
    "name": "ipython",
    "version": 3
   },
   "file_extension": ".py",
   "mimetype": "text/x-python",
   "name": "python",
   "nbconvert_exporter": "python",
   "pygments_lexer": "ipython3",
   "version": "3.11.5"
  },
  "source_map": [
   13
  ]
 },
 "nbformat": 4,
 "nbformat_minor": 5
}