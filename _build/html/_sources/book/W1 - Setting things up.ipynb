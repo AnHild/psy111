{
 "cells": [
  {
   "cell_type": "markdown",
   "id": "5212408a",
   "metadata": {},
   "source": [
    "# W1 - Setting things up\n",
    "\n",
    "This book aims to be a standalone resource for the entire semester. Each session will start with a brief recap of the core concepts from the lecture and an introduction into the relevant Python tools. The second part will then let you apply the methods through hands-on exercises. These exercises can be done directly within the browser through [Google Colab](https://colab.research.google.com/), however the individual Jupyter Notebook files (`.ipynb`) can also be opened and run on your local computer.\n",
    "\n",
    "As this will most definitely be useful for your future research, we will start with setting up a working Python environment on your own computer.\n",
    "\n",
    "## Installation\n",
    "\n",
    "Python can easily be installed and downloaded from the [official website](https://www.python.org/). However, in this guide, we will use a different package called [conda](https://conda.io/projects/conda/en/latest/user-guide/getting-started.html). Conda is a powerful package and environment management system that is widely used in the Python community and beyond.\n",
    "\n",
    "The key advantage of using conda is its ability to manage multiple versions of Python and various dependencies simultaneously. Conda allows you to create isolated environments, which you can think of as self-contained \"boxes\" that contain specific versions of Python and other packages required for different projects. This isolation ensures that changes or updates in one environment do not affect others, making it easier to manage and switch between projects with different requirements.\n",
    "\n",
    "We will use a minimal version of conda called **miniconda**. This is a lightweight version of conda that, unlike its bigger sibling, comes without e.g. a graphical user interface. You can download and install it from [here](https://docs.anaconda.com/miniconda/).\n",
    "\n",
    "\n",
    "In addition to Python, we will also install and download a programming environment. For this, we use **Visual Studio Code**, which you can download from [here](https://code.visualstudio.com/).\n",
    "\n",
    "```{admonition} Summary\n",
    ":class: tip\n",
    "\n",
    "By using conda/miniconda you can:\n",
    "\n",
    "- Install and switch between different versions of Python\n",
    "- Manage dependencies for different projects separately, avoiding conflicts\n",
    "- Create reproducible environments that can be easily replicated by others\n",
    "```\n",
    "\n",
    "## Usage"
   ]
  }
 ],
 "metadata": {
  "jupytext": {
   "formats": "md:myst",
   "text_representation": {
    "extension": ".md",
    "format_name": "myst",
    "format_version": 0.13,
    "jupytext_version": "1.11.5"
   }
  },
  "kernelspec": {
   "display_name": "Python 3",
   "language": "python",
   "name": "python3"
  },
  "language_info": {
   "codemirror_mode": {
    "name": "ipython",
    "version": 3
   },
   "file_extension": ".py",
   "mimetype": "text/x-python",
   "name": "python",
   "nbconvert_exporter": "python",
   "pygments_lexer": "ipython3",
   "version": "3.11.5"
  },
  "source_map": [
   13
  ]
 },
 "nbformat": 4,
 "nbformat_minor": 5
}