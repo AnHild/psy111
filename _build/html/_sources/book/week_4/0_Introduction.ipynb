{
 "cells": [
  {
   "cell_type": "markdown",
   "id": "46640a96",
   "metadata": {},
   "source": [
    "# W4 - Scientific computing\n",
    "\n",
    "In the previous week you learned about core concepts of Python, including control flow, functions, and classes. Today, we will finally explore some more practical applications and introduce some of the most important libraries and their functions which you will need for any kind of scientific computing."
   ]
  }
 ],
 "metadata": {
  "jupytext": {
   "formats": "md:myst",
   "text_representation": {
    "extension": ".md",
    "format_name": "myst",
    "format_version": 0.13,
    "jupytext_version": "1.11.5"
   }
  },
  "kernelspec": {
   "display_name": "Python 3",
   "language": "python",
   "name": "python3"
  },
  "language_info": {
   "codemirror_mode": {
    "name": "ipython",
    "version": 3
   },
   "file_extension": ".py",
   "mimetype": "text/x-python",
   "name": "python",
   "nbconvert_exporter": "python",
   "pygments_lexer": "ipython3",
   "version": "3.11.5"
  },
  "source_map": [
   13
  ]
 },
 "nbformat": 4,
 "nbformat_minor": 5
}