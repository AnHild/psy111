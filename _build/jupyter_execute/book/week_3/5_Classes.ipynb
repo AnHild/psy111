{
 "cells": [
  {
   "cell_type": "markdown",
   "id": "582ef430",
   "metadata": {},
   "source": [
    "# 3.5 Classes\n",
    "test\n",
    "\n",
    "As previously mentioned, [everything in Python is an object](1_Everything_is_an_object). The key cocept behind this is the object-oriented programming (OOP) paradigm central to many programming languages. I will try to briefly these concepts in this chapter, however, do not worry if you feel like these concepts do not immediately make sense to you. Learning a programming language is like learning a real language and takes time. I am however convinced that once the semester goes on many of these newly introduced concepts will already start to click as you work your way through the exercises.\n",
    "\n",
    "## So what is a class?\n",
    "\n",
    "A class is, in a sense, a kind of template for an object. You can think of it as a set of rules and instructions what an object of a given kind can do. Let us start with the simplest example of a class and built on top of that."
   ]
  },
  {
   "cell_type": "code",
   "execution_count": 1,
   "id": "19e6881c",
   "metadata": {},
   "outputs": [],
   "source": [
    "class Circle:\n",
    "  pass"
   ]
  },
  {
   "cell_type": "markdown",
   "id": "58db64d8",
   "metadata": {},
   "source": [
    "These two lines of code already define a perfectly valid class called `Circle` (note that it starts with a capital C, which is a naming convention for classes). The `pass` statement is used as a placeholder to tell the Python interpreter that it should not expect any more code to follow for the class.\n",
    "\n",
    "## Creating instances\n",
    "\n",
    "So what can we do with the Circle class? It doesn't particularly look useful, does it? However, we can already do the most important thing we can do with a class, we can create a new *instance* of said class, which is to say we create objects whose behavior is defined by the `Circle` class. You can kind of imagine this as drawing different circles on a piece of paper. All of them are circles, but none of them would be the actual definition of a circle.\n",
    "\n",
    "The syntax for creating an instance in Python is simple:"
   ]
  },
  {
   "cell_type": "code",
   "execution_count": 2,
   "id": "931e257f",
   "metadata": {},
   "outputs": [],
   "source": [
    "my_circle = Circle()"
   ]
  },
  {
   "cell_type": "markdown",
   "id": "9a95b105",
   "metadata": {},
   "source": [
    "The `my_circle` variable contains an object, which is a specific instance of the `Circle` class. As of now, this object does neither contain any important information nor can it do anything.\n",
    "\n",
    "## Making it do things\n",
    "\n",
    "Let's start by providing some features to the `Circle` class:"
   ]
  },
  {
   "cell_type": "code",
   "execution_count": 3,
   "id": "30e8cf49",
   "metadata": {},
   "outputs": [],
   "source": [
    "from math import pi\n",
    "\n",
    "class Circle:\n",
    "  def __init__(self, radius):\n",
    "    self.radius = radius\n",
    "\n",
    "  def area(self):\n",
    "    return pi * self.radius**2"
   ]
  },
  {
   "cell_type": "markdown",
   "id": "2772f2d1",
   "metadata": {},
   "source": [
    "We now defined two *methods* (functions whithin a class). First, there is the `__init()__` method, which might look fairly strange to you. This is a so called *magic method*, which is the basic initialization that is used every time we create an instance of our class. The `__init()__` method has two arguments. The first parameter is called `self`. It is a mandatory argument for any method whithin a class to take a reference to the current instance (*itself* so to say). The second argument `radius` then the first actual argument which has to be provided if a circle object is created. Whithin the `__init()__` method, this argument is assigned to a variable called `self.radius` which makes it an *attribute* of the class instance.\n",
    "\n",
    "The `area()` method simply defines a way of calculating the area of the circle. As a method of the class it has access to all class attributes (variables starting with `self.`) and thus does not need any additional parameters other than the mandatory `self`.\n",
    "\n",
    "We can then use this newly updated Circle class as follows:"
   ]
  },
  {
   "cell_type": "code",
   "execution_count": 4,
   "id": "e7500fdb",
   "metadata": {},
   "outputs": [
    {
     "data": {
      "text/plain": [
       "50.26548245743669"
      ]
     },
     "execution_count": 4,
     "metadata": {},
     "output_type": "execute_result"
    }
   ],
   "source": [
    "my_circle = Circle(4)\n",
    "my_circle.area()"
   ]
  },
  {
   "cell_type": "markdown",
   "id": "831b19cb",
   "metadata": {},
   "source": [
    "The first line creates an object of the Circle class with radius 4. We can then use the `.area()` method of that object to calculate its area. Pretty cool, huh? If we change the radius of the given circle, then the area will change as well:"
   ]
  },
  {
   "cell_type": "code",
   "execution_count": 5,
   "id": "0b087760",
   "metadata": {},
   "outputs": [
    {
     "data": {
      "text/plain": [
       "254.46900494077323"
      ]
     },
     "execution_count": 5,
     "metadata": {},
     "output_type": "execute_result"
    }
   ],
   "source": [
    "my_circle.radius = 9\n",
    "my_circle.area()"
   ]
  },
  {
   "cell_type": "markdown",
   "id": "8198ebfa",
   "metadata": {},
   "source": [
    "## Magic methods\n",
    "\n",
    "We came across the concept of magic methods like the `__init()__` method that runs every time we create an instance of an object. There are many other methods like this, and the key concept already is that they are usually called implicitly when a certain operation is applied to an object, even though it does not look like the operation and the magic method hav anything to do with each other. That's what makes them magic!🪄\n",
    "\n",
    "You are probably already tired of me saying \"everything in Python is an object\". However, you will now see one of the deeper implications this has. *All operators in Python are just cleverly disguised method calls*. That means even if we write something seemingly basic like `4 * 3`, Python will implicitly call a magic method on the first operant (the number 4 as an object of the integer class), with the second operand being passed as an argument. This might sound a bit confusing, but"
   ]
  },
  {
   "cell_type": "code",
   "execution_count": 6,
   "id": "effc74a2",
   "metadata": {},
   "outputs": [
    {
     "data": {
      "text/plain": [
       "12"
      ]
     },
     "execution_count": 6,
     "metadata": {},
     "output_type": "execute_result"
    }
   ],
   "source": [
    "4 * 3"
   ]
  },
  {
   "cell_type": "markdown",
   "id": "6aa95805",
   "metadata": {},
   "source": [
    "under the hood is essentially just"
   ]
  },
  {
   "cell_type": "code",
   "execution_count": 7,
   "id": "f1f7d946",
   "metadata": {},
   "outputs": [
    {
     "data": {
      "text/plain": [
       "12"
      ]
     },
     "execution_count": 7,
     "metadata": {},
     "output_type": "execute_result"
    }
   ],
   "source": [
    "(4).__mul__(3)"
   ]
  },
  {
   "cell_type": "markdown",
   "id": "18c2bdf5",
   "metadata": {},
   "source": [
    "with the parentheses being necessary so the `.` is not confused to be a decimal point. This also works for strings:"
   ]
  },
  {
   "cell_type": "code",
   "execution_count": 8,
   "id": "4c7683e5",
   "metadata": {},
   "outputs": [
    {
     "data": {
      "text/plain": [
       "'hello world'"
      ]
     },
     "execution_count": 8,
     "metadata": {},
     "output_type": "execute_result"
    }
   ],
   "source": [
    "\"hello\" + \" world\""
   ]
  },
  {
   "cell_type": "code",
   "execution_count": 9,
   "id": "2cb1d92e",
   "metadata": {},
   "outputs": [
    {
     "data": {
      "text/plain": [
       "'hello world'"
      ]
     },
     "execution_count": 9,
     "metadata": {},
     "output_type": "execute_result"
    }
   ],
   "source": [
    "\"hello\".__add__(\" world\")"
   ]
  }
 ],
 "metadata": {
  "jupytext": {
   "formats": "md:myst",
   "text_representation": {
    "extension": ".md",
    "format_name": "myst",
    "format_version": 0.13,
    "jupytext_version": "1.11.5"
   }
  },
  "kernelspec": {
   "display_name": "Python 3",
   "language": "python",
   "name": "python3"
  },
  "language_info": {
   "codemirror_mode": {
    "name": "ipython",
    "version": 3
   },
   "file_extension": ".py",
   "mimetype": "text/x-python",
   "name": "python",
   "nbconvert_exporter": "python",
   "pygments_lexer": "ipython3",
   "version": "3.12.4"
  },
  "source_map": [
   13,
   24,
   27,
   37,
   39,
   47,
   56,
   64,
   67,
   71,
   74,
   82,
   84,
   88,
   90,
   94,
   98
  ]
 },
 "nbformat": 4,
 "nbformat_minor": 5
}