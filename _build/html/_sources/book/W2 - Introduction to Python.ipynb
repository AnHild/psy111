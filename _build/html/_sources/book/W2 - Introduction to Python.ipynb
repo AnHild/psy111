{
 "cells": [
  {
   "cell_type": "markdown",
   "id": "2150d139",
   "metadata": {},
   "source": [
    "# W2 - Introduction to Python\n",
    "\n",
    "The Python programming language is a *general purpose* language, which means it is widely used in many fields, including statistics and neuroimaging. Python is a *high-level, interpreted* language, which means it offers a high level of abstraction and you do not need to worry about *low-level* things like memory management. The following introduction is losely based on the book \"Data Science for Neuroimaging: An Introduction\" by Ariel Rokem and Tal Yarkoni {cite}`Rokem2023`.\n",
    "\n",
    "\n",
    "## 1.1 Variables and data types\n",
    "\n",
    "As in other programming languages, variables are used to store data of different values or types (hence the name *variable*). In Python, you declare a variable by writing its name and then assigning its value with the equal (=) sign:"
   ]
  },
  {
   "cell_type": "code",
   "execution_count": 1,
   "id": "499761a7",
   "metadata": {},
   "outputs": [],
   "source": [
    "my_variable = 4"
   ]
  },
  {
   "cell_type": "markdown",
   "id": "c12f8b4a",
   "metadata": {},
   "source": [
    "Notice that when we initialize a variable, we do not need to specify its *type* (e.g. it being an integer or a string), as Python is *dynamically typed*, which means it figures out your desired variable type by itself once you run the program. This means, you can also simply overwrite your previously created variable with for example a character string:"
   ]
  },
  {
   "cell_type": "code",
   "execution_count": 2,
   "id": "5d16c252",
   "metadata": {},
   "outputs": [],
   "source": [
    "my_variable = \"Hello World\""
   ]
  },
  {
   "cell_type": "markdown",
   "id": "d8e5a3d0",
   "metadata": {},
   "source": [
    "If you want to know what 's currently stored in your variable, you can use the `print()` function:"
   ]
  },
  {
   "cell_type": "code",
   "execution_count": 3,
   "id": "4de963f0",
   "metadata": {},
   "outputs": [
    {
     "name": "stdout",
     "output_type": "stream",
     "text": [
      "Hello World\n"
     ]
    }
   ],
   "source": [
    "print(my_variable)"
   ]
  },
  {
   "cell_type": "markdown",
   "id": "77326db8",
   "metadata": {},
   "source": [
    "**Note:** If you are working in an interactive environment like the Jupyter notebooks which we will use in the exercises, you might not even need to write print as the last line of the code cell is automatically evaluated.\n",
    "\n",
    "## 1.2 Built-in types\n",
    "\n",
    "All general-purpose languages provide the programmer with different *types* of variables as the basic building blocks of programs.\n",
    "\n",
    "**Integers**\n",
    "\n",
    "Integers are the numbers zero (0), positive natural numbers (1, 2, 3, ...), or the negation of positive natural numbers (-1, -2, -3, ...)"
   ]
  },
  {
   "cell_type": "code",
   "execution_count": 4,
   "id": "09763844",
   "metadata": {},
   "outputs": [],
   "source": [
    "subjects_group_1 = 10\n",
    "subjects_group_2 = 20\n",
    "scans_total = 60"
   ]
  },
  {
   "cell_type": "markdown",
   "id": "bccfb084",
   "metadata": {},
   "source": [
    "You can perform mathematical operations like addition"
   ]
  },
  {
   "cell_type": "code",
   "execution_count": 5,
   "id": "713db81f",
   "metadata": {},
   "outputs": [
    {
     "name": "stdout",
     "output_type": "stream",
     "text": [
      "30\n"
     ]
    }
   ],
   "source": [
    "subjects_total = subjects_group_1 + subjects_group_2\n",
    "print(subjects_total)"
   ]
  },
  {
   "cell_type": "markdown",
   "id": "9b63767f",
   "metadata": {},
   "source": [
    "or division"
   ]
  },
  {
   "cell_type": "code",
   "execution_count": 6,
   "id": "9ba2b047",
   "metadata": {},
   "outputs": [
    {
     "data": {
      "text/plain": [
       "2.0"
      ]
     },
     "execution_count": 6,
     "metadata": {},
     "output_type": "execute_result"
    }
   ],
   "source": [
    "scans_per_subject = scans_total / subjects_total\n",
    "scans_per_subject"
   ]
  },
  {
   "cell_type": "markdown",
   "id": "7513380b",
   "metadata": {},
   "source": [
    "Notice that while the addition of two integers returns another integer, while the division returns a float (short for *floating point* number), which is a way computers represent real numbers. *Note*: As already mentioned above, if we execute Python code in interactive notebooks, the `print()` statement can be omitted if the variable to be printed is in the last line of the code block.\n",
    "\n",
    "All of the standard arithmetic operations that work on integers further also work on floats or any combination of them:"
   ]
  },
  {
   "cell_type": "code",
   "execution_count": 7,
   "id": "d95fe359",
   "metadata": {},
   "outputs": [
    {
     "name": "stdout",
     "output_type": "stream",
     "text": [
      "Circumference of the cicle: 12.56\n"
     ]
    }
   ],
   "source": [
    "roughly_pi = 3.14\n",
    "radius = 2\n",
    "print(\"Circumference of the cicle:\", 2 * roughly_pi * radius)"
   ]
  }
 ],
 "metadata": {
  "jupytext": {
   "formats": "md:myst",
   "text_representation": {
    "extension": ".md",
    "format_name": "myst",
    "format_version": 0.13,
    "jupytext_version": "1.11.5"
   }
  },
  "kernelspec": {
   "display_name": "Python 3",
   "language": "python",
   "name": "python3"
  },
  "language_info": {
   "codemirror_mode": {
    "name": "ipython",
    "version": 3
   },
   "file_extension": ".py",
   "mimetype": "text/x-python",
   "name": "python",
   "nbconvert_exporter": "python",
   "pygments_lexer": "ipython3",
   "version": "3.11.5"
  },
  "source_map": [
   13,
   24,
   26,
   30,
   32,
   36,
   38,
   50,
   54,
   58,
   61,
   65,
   68,
   74
  ]
 },
 "nbformat": 4,
 "nbformat_minor": 5
}