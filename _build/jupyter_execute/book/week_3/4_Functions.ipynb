{
 "cells": [
  {
   "cell_type": "markdown",
   "id": "be7b15a7",
   "metadata": {},
   "source": [
    "# 3.4 Functions\n",
    "\n",
    "Functions are essential in programming as they allow you to encapsulate and reuse code efficiently. By breaking down complex problems into smaller, manageable parts, functions enhance code organization and readability. As we already saw you can use built-in functions or import them from specialized modules. Quite often it is also useful for you to *define* your own functions. In Python, this can be done by using the `def` keyword followed by a function name:"
   ]
  },
  {
   "cell_type": "code",
   "execution_count": 1,
   "id": "964f2d47",
   "metadata": {},
   "outputs": [
    {
     "name": "stdout",
     "output_type": "stream",
     "text": [
      "I'm a custom function!\n"
     ]
    }
   ],
   "source": [
    "def my_function():\n",
    "  print(\"I'm a custom function!\")\n",
    "\n",
    "my_function() # use the function"
   ]
  },
  {
   "cell_type": "markdown",
   "id": "51928387",
   "metadata": {},
   "source": [
    "## Function arguments and returns\n",
    "\n",
    "Functions can accept *arguments* (or parameters) that provide inputs or modify their behaviour. For example, if we want to add two numbers, we can pass both of them as arguments and further *return* the result to the user:"
   ]
  },
  {
   "cell_type": "code",
   "execution_count": 2,
   "id": "b796a5e2",
   "metadata": {},
   "outputs": [
    {
     "name": "stdout",
     "output_type": "stream",
     "text": [
      "3\n"
     ]
    }
   ],
   "source": [
    "def add(a, b):\n",
    "  return a + b\n",
    "\n",
    "result = add(1, 2)\n",
    "print(result)"
   ]
  },
  {
   "cell_type": "markdown",
   "id": "4ce9322a",
   "metadata": {},
   "source": [
    "### Arguments\n",
    "\n",
    "Python functions can have two different kinds of arguments: *positional* arguments, and *keyword* arguments. Positional arguments on the one hand are defined by their position whithin the round brackets and *must* be provided for the function to run without giving an error. In the previous example, both `a` and `b` are positional arguments and the function would not know what to do if any of them would be missing. Keyword arguments on the other hand are assigned a *default* value. This means that the function knows what to do even if the user does not explicitly provide a value for that argument. As an example, lets create a function that adds random gaussian noise to a given input `x:"
   ]
  },
  {
   "cell_type": "code",
   "execution_count": 3,
   "id": "8d0dfd8b",
   "metadata": {},
   "outputs": [],
   "source": [
    "import random\n",
    "\n",
    "def add_noise(x, mu=0, sd=1):\n",
    "  \"\"\"Adds gaussian noise to the input.\n",
    "\n",
    "  Parameters\n",
    "  ----------\n",
    "  x : number\n",
    "    The number to add noise to.\n",
    "  mu : float, optional\n",
    "    The mean of the gaussian noise distribution.\n",
    "    Default: 0\n",
    "  sd : float, optional\n",
    "    The standard deviation of the noise distribution.\n",
    "    Default: 1\n",
    "\n",
    "  Returns\n",
    "  -------\n",
    "  float\n",
    "  \"\"\"\n",
    "\n",
    "  noise = random.normalvariate(mu, sd)\n",
    "  return x + noise"
   ]
  },
  {
   "cell_type": "markdown",
   "id": "9a96ea61",
   "metadata": {},
   "source": [
    "If we now call this function by just providing a value for `x`it will still work as expected by using a mean of 0 and a standard deviation of 1 to calculate and add the noise."
   ]
  },
  {
   "cell_type": "code",
   "execution_count": 4,
   "id": "aac23a14",
   "metadata": {},
   "outputs": [
    {
     "data": {
      "text/plain": [
       "5.138482233074512"
      ]
     },
     "execution_count": 4,
     "metadata": {},
     "output_type": "execute_result"
    }
   ],
   "source": [
    "add_noise(5)"
   ]
  },
  {
   "cell_type": "markdown",
   "id": "5ece4940",
   "metadata": {},
   "source": [
    "If you decide you need different noise with a standard deviation of 5, you can simply add this new value. As positional arguments are optional, their order does not matter. You can provide any keyword argument in any order you like, as long as you provide its name and all positional arguments have been correctly provided before."
   ]
  },
  {
   "cell_type": "code",
   "execution_count": 5,
   "id": "e052bc67",
   "metadata": {},
   "outputs": [
    {
     "data": {
      "text/plain": [
       "11.43224803784041"
      ]
     },
     "execution_count": 5,
     "metadata": {},
     "output_type": "execute_result"
    }
   ],
   "source": [
    "add_noise(5, sd=5)"
   ]
  },
  {
   "cell_type": "markdown",
   "id": "9388cb6a",
   "metadata": {},
   "source": [
    "You can further use positional arguments by their name"
   ]
  },
  {
   "cell_type": "code",
   "execution_count": 6,
   "id": "3dd021f0",
   "metadata": {},
   "outputs": [
    {
     "data": {
      "text/plain": [
       "-2.4460610949416273"
      ]
     },
     "execution_count": 6,
     "metadata": {},
     "output_type": "execute_result"
    }
   ],
   "source": [
    "add_noise(x=5, sd=5)"
   ]
  },
  {
   "cell_type": "markdown",
   "id": "5c7caf0b",
   "metadata": {},
   "source": [
    "or without any name at all"
   ]
  },
  {
   "cell_type": "code",
   "execution_count": 7,
   "id": "c43f7a33",
   "metadata": {},
   "outputs": [
    {
     "data": {
      "text/plain": [
       "10.722769737416623"
      ]
     },
     "execution_count": 7,
     "metadata": {},
     "output_type": "execute_result"
    }
   ],
   "source": [
    "add_noise(5, 5)"
   ]
  },
  {
   "cell_type": "markdown",
   "id": "dc4afc0d",
   "metadata": {},
   "source": [
    "However, the last example will produce a different result than the other ones! This is because if no keywords are provided, Python will only be able to rely on the order of arguments, which would result in the arguments being interpreted as `x=5`, `mu=5` and `sd=1` as per default.\n",
    "\n",
    "*Additional note:* So far you mostly saw comments whithin the code by using the # sign. Another way of commenting your code is to use three double parentheses `\"\"\"comment\"\"\"` as shown in the previous code snippet. This is useful if you need to provide larger portions of text like when documenting your functions. You can see one example of that in the `add_noise()` function, which clearly describes the input and output parameters of the function, making it easier to understand how to use the function.\n",
    "\n",
    "### Argument unpacking\n",
    "\n",
    "Another feature of Python is providing a function with an unspecified number of arguments by using `*args` and `**kwargs`. We will not cover this here, but please feel free to explore this topic on your own (e.g. [here](https://book.pythontips.com/en/latest/args_and_kwargs.html))."
   ]
  }
 ],
 "metadata": {
  "jupytext": {
   "formats": "md:myst",
   "text_representation": {
    "extension": ".md",
    "format_name": "myst",
    "format_version": 0.13,
    "jupytext_version": "1.11.5"
   }
  },
  "kernelspec": {
   "display_name": "Python 3",
   "language": "python",
   "name": "python3"
  },
  "language_info": {
   "codemirror_mode": {
    "name": "ipython",
    "version": 3
   },
   "file_extension": ".py",
   "mimetype": "text/x-python",
   "name": "python",
   "nbconvert_exporter": "python",
   "pygments_lexer": "ipython3",
   "version": "3.11.5"
  },
  "source_map": [
   13,
   19,
   24,
   30,
   36,
   42,
   66,
   70,
   72,
   76,
   78,
   82,
   84,
   88,
   90
  ]
 },
 "nbformat": 4,
 "nbformat_minor": 5
}