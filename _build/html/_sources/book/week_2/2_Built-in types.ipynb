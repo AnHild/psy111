{
 "cells": [
  {
   "cell_type": "markdown",
   "id": "7d415919",
   "metadata": {},
   "source": [
    "# 2.2 Built-in types\n",
    "\n",
    "All general-purpose languages provide the programmer with different *types* of variables as the basic building blocks of programs.\n",
    "\n",
    "## Integers\n",
    "\n",
    "Integers are the numbers zero (0), positive natural numbers (1, 2, 3, ...), or the negation of positive natural numbers (-1, -2, -3, ...)"
   ]
  },
  {
   "cell_type": "code",
   "execution_count": 1,
   "id": "fcf53693",
   "metadata": {},
   "outputs": [],
   "source": [
    "subjects_group_1 = 10\n",
    "subjects_group_2 = 20\n",
    "scans_total = 60"
   ]
  },
  {
   "cell_type": "markdown",
   "id": "8d436fe2",
   "metadata": {},
   "source": [
    "You can perform mathematical operations like addition"
   ]
  },
  {
   "cell_type": "code",
   "execution_count": 2,
   "id": "830797bf",
   "metadata": {},
   "outputs": [
    {
     "name": "stdout",
     "output_type": "stream",
     "text": [
      "30\n"
     ]
    }
   ],
   "source": [
    "subjects_total = subjects_group_1 + subjects_group_2\n",
    "print(subjects_total)"
   ]
  },
  {
   "cell_type": "markdown",
   "id": "79ee97d8",
   "metadata": {},
   "source": [
    "or division"
   ]
  },
  {
   "cell_type": "code",
   "execution_count": 3,
   "id": "f5ae84ca",
   "metadata": {},
   "outputs": [
    {
     "data": {
      "text/plain": [
       "2.0"
      ]
     },
     "execution_count": 3,
     "metadata": {},
     "output_type": "execute_result"
    }
   ],
   "source": [
    "scans_per_subject = scans_total / subjects_total\n",
    "scans_per_subject"
   ]
  },
  {
   "cell_type": "markdown",
   "id": "a8c3e29f",
   "metadata": {},
   "source": [
    "## Floating point numbers\n",
    "\n",
    "Notice that while the previous addition of two integers results in another integer, the division results in a number with a decimal point. This is what we call a float (short for *floating point* number), which is a way computers represent real numbers.\n",
    "\n",
    "*Note:* As already mentioned above, if we execute Python code in interactive notebooks (*.ipynb* files), the `print()` statement can be omitted if the variable to be printed is in the last line of the code block. From now on, we will use this convention, however please note that you will need to write the print statement explicitly if you work in normal Python (*.py*) scripts.\n",
    "\n",
    "All of the standard arithmetic operations that work on integers further also work on floats or for any combination of them:"
   ]
  },
  {
   "cell_type": "code",
   "execution_count": 4,
   "id": "5d59715b",
   "metadata": {},
   "outputs": [
    {
     "name": "stdout",
     "output_type": "stream",
     "text": [
      "The circumference of the cicle: 12.56\n"
     ]
    }
   ],
   "source": [
    "roughly_pi = 3.14\n",
    "radius = 2\n",
    "\n",
    "print(\"The circumference of the cicle:\", 2 * roughly_pi * radius)"
   ]
  },
  {
   "cell_type": "markdown",
   "id": "00158d11",
   "metadata": {},
   "source": [
    "## Strings\n",
    "\n",
    "Strings are sequences of characters. In Python, we can define strings by encloding zero or more characters in a pair of quotes. It does not matter whether you use single or double quotes and both work equally well as long as the opening and closing quotes match."
   ]
  },
  {
   "cell_type": "code",
   "execution_count": 5,
   "id": "27efc9a1",
   "metadata": {},
   "outputs": [],
   "source": [
    "module = \"psy111\"\n",
    "university = 'Oldenburg'"
   ]
  },
  {
   "cell_type": "markdown",
   "id": "d7bfca9b",
   "metadata": {},
   "source": [
    "There are many prebuilt functions you can use on strings, like figuring out their length:"
   ]
  },
  {
   "cell_type": "code",
   "execution_count": 6,
   "id": "668347a5",
   "metadata": {},
   "outputs": [
    {
     "data": {
      "text/plain": [
       "6"
      ]
     },
     "execution_count": 6,
     "metadata": {},
     "output_type": "execute_result"
    }
   ],
   "source": [
    "len(module)"
   ]
  },
  {
   "cell_type": "markdown",
   "id": "fa49eb9e",
   "metadata": {},
   "source": [
    "Or converting them to lower case:"
   ]
  },
  {
   "cell_type": "code",
   "execution_count": 7,
   "id": "5ae94ed9",
   "metadata": {},
   "outputs": [
    {
     "data": {
      "text/plain": [
       "'oldenburg'"
      ]
     },
     "execution_count": 7,
     "metadata": {},
     "output_type": "execute_result"
    }
   ],
   "source": [
    "university.lower()"
   ]
  },
  {
   "cell_type": "markdown",
   "id": "59ef6806",
   "metadata": {},
   "source": [
    "We can even replace a substring with another substring:"
   ]
  },
  {
   "cell_type": "code",
   "execution_count": 8,
   "id": "27b1d091",
   "metadata": {},
   "outputs": [
    {
     "data": {
      "text/plain": [
       "'Oldencastle'"
      ]
     },
     "execution_count": 8,
     "metadata": {},
     "output_type": "execute_result"
    }
   ],
   "source": [
    "university.replace(\"burg\", \"castle\")"
   ]
  },
  {
   "cell_type": "markdown",
   "id": "4590abb7",
   "metadata": {},
   "source": [
    "One thing you might have noticed is that these examples seem to use two different syntaxes. In the first example, `len()` seems to be a function which takes a string as its parameter (or *argument*), while in the other examples the function comes after the string with a *dot* notation `.upper()`. If this is a bit confusing do not worry, we will talk about this difference a bit later.\n",
    "\n",
    "Another useful thing about string is that you can use *formatted* strings (f-strings) to nicely format strings when printing results. For this you can just add an *f* before the opening quotation marks of the string and you can then print the value of any variable by enclosing it with curly brackets `{}` in the middle of your string:"
   ]
  },
  {
   "cell_type": "code",
   "execution_count": 9,
   "id": "a0da150f",
   "metadata": {},
   "outputs": [
    {
     "name": "stdout",
     "output_type": "stream",
     "text": [
      "The human brain has 86 billion neurons.\n"
     ]
    }
   ],
   "source": [
    "num_neurons = 86\n",
    "print(f\"The human brain has {num_neurons} billion neurons.\")"
   ]
  },
  {
   "cell_type": "markdown",
   "id": "b722b866",
   "metadata": {},
   "source": [
    "You can also do many more things like formatting the number of decimal points shown for a number. See for example the Python documentation for more information: https://docs.python.org/3/tutorial/inputoutput.html.\n",
    "\n",
    "## Booleans\n",
    "\n",
    "Handling boolean values in Python is pretty much the same as in other programming languages. However, they can only take the value `True` (corresponding to 1) or `False` (corresonding to 0) and not other versions like `true` or `\"False\"`:"
   ]
  },
  {
   "cell_type": "code",
   "execution_count": 10,
   "id": "4a307b78",
   "metadata": {},
   "outputs": [
    {
     "data": {
      "text/plain": [
       "True"
      ]
     },
     "execution_count": 10,
     "metadata": {},
     "output_type": "execute_result"
    }
   ],
   "source": [
    "i_like_psy111 = True\n",
    "i_like_psy111"
   ]
  },
  {
   "cell_type": "markdown",
   "id": "bb5f8120",
   "metadata": {},
   "source": [
    "One of the ways boolean values are typically generated in Python is through logical or comparison operations. For example, the statement \"5 is larger than 3\" can be answered in a binary way (it is either true or false):"
   ]
  },
  {
   "cell_type": "code",
   "execution_count": 11,
   "id": "51adf036",
   "metadata": {},
   "outputs": [
    {
     "data": {
      "text/plain": [
       "True"
      ]
     },
     "execution_count": 11,
     "metadata": {},
     "output_type": "execute_result"
    }
   ],
   "source": [
    "5 > 3"
   ]
  },
  {
   "cell_type": "markdown",
   "id": "63a77c9f",
   "metadata": {},
   "source": [
    "Similarly, if we want to compare two numbers, this is also a logical operation that returns a Boolean value:"
   ]
  },
  {
   "cell_type": "code",
   "execution_count": 12,
   "id": "6e956647",
   "metadata": {},
   "outputs": [
    {
     "data": {
      "text/plain": [
       "False"
      ]
     },
     "execution_count": 12,
     "metadata": {},
     "output_type": "execute_result"
    }
   ],
   "source": [
    "5 == 3"
   ]
  },
  {
   "cell_type": "markdown",
   "id": "b6746815",
   "metadata": {},
   "source": [
    "But what if the question you are trying to ask is not so simple? Python lets you built *conjunctions* of several subexpressions:"
   ]
  },
  {
   "cell_type": "code",
   "execution_count": 13,
   "id": "2c384be0",
   "metadata": {},
   "outputs": [
    {
     "data": {
      "text/plain": [
       "True"
      ]
     },
     "execution_count": 13,
     "metadata": {},
     "output_type": "execute_result"
    }
   ],
   "source": [
    "(\"burg\" in \"oldenburg\") and (5 > 3) and (4 * 2 == 8)"
   ]
  },
  {
   "cell_type": "markdown",
   "id": "d06bbdb6",
   "metadata": {},
   "source": [
    "In logical operations, *and* requires ALL statements to be true, wich is the case here. Alternatively, *or* requires only one of the statements to be true:"
   ]
  },
  {
   "cell_type": "code",
   "execution_count": 14,
   "id": "270b5b7f",
   "metadata": {},
   "outputs": [
    {
     "data": {
      "text/plain": [
       "True"
      ]
     },
     "execution_count": 14,
     "metadata": {},
     "output_type": "execute_result"
    }
   ],
   "source": [
    "(\"burg\" in \"oldenburg\") and (5 > 3) or (4 * 2 == 10)"
   ]
  },
  {
   "cell_type": "markdown",
   "id": "86b854c3",
   "metadata": {},
   "source": [
    "This expression still returns `True` even though the last comparison is false due to it being joined with the previous expression through *or*. This brif example hopefully already illustrate nicely how the Python syntax is more readable than most other programming languages.\n",
    "\n",
    "## None\n",
    "\n",
    "So what if you want to create a variable but not assign a specific value to it? This is where *None* comes in handy. *None* works similar as for example the *NaN* (not a number) value from MATLAB. Please note that *None* and *False* however are not the same thing!"
   ]
  },
  {
   "cell_type": "code",
   "execution_count": 15,
   "id": "57c7adf2",
   "metadata": {},
   "outputs": [
    {
     "data": {
      "text/plain": [
       "False"
      ]
     },
     "execution_count": 15,
     "metadata": {},
     "output_type": "execute_result"
    }
   ],
   "source": [
    "None == False"
   ]
  },
  {
   "cell_type": "markdown",
   "id": "ab2b4d6f",
   "metadata": {},
   "source": [
    "```{admonition} Summary\n",
    ":class: tip\n",
    "\n",
    "The Python standard library includes the following data types:\n",
    "\n",
    "- Integer values (1, 2, 3)\n",
    "- Floating point values (1.0, 2.2)\n",
    "- Charater strings (\"Hello\", \"World\")\n",
    "- Boolean values (True, False)\n",
    "- No value (None)\n",
    "```"
   ]
  }
 ],
 "metadata": {
  "jupytext": {
   "formats": "md:myst",
   "text_representation": {
    "extension": ".md",
    "format_name": "myst",
    "format_version": 0.13,
    "jupytext_version": "1.11.5"
   }
  },
  "kernelspec": {
   "display_name": "Python 3",
   "language": "python",
   "name": "python3"
  },
  "language_info": {
   "codemirror_mode": {
    "name": "ipython",
    "version": 3
   },
   "file_extension": ".py",
   "mimetype": "text/x-python",
   "name": "python",
   "nbconvert_exporter": "python",
   "pygments_lexer": "ipython3",
   "version": "3.12.4"
  },
  "source_map": [
   13,
   23,
   27,
   31,
   34,
   38,
   41,
   51,
   56,
   62,
   65,
   69,
   71,
   75,
   77,
   81,
   83,
   89,
   92,
   100,
   103,
   107,
   109,
   113,
   115,
   119,
   121,
   125,
   127,
   134,
   136
  ]
 },
 "nbformat": 4,
 "nbformat_minor": 5
}