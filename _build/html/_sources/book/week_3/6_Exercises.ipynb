{
 "cells": [
  {
   "cell_type": "markdown",
   "metadata": {},
   "source": [
    "# 3.6 Exercises"
   ]
  },
  {
   "cell_type": "markdown",
   "metadata": {},
   "source": [
    "## Exercise 1\n",
    "\n",
    "Find the methods associated with “int” objects. Are they different from the methods associated with “float” objects?"
   ]
  },
  {
   "cell_type": "code",
   "execution_count": null,
   "metadata": {},
   "outputs": [],
   "source": [
    "# Exercise 1"
   ]
  },
  {
   "cell_type": "markdown",
   "metadata": {},
   "source": [
    "## Exercise 2\n",
    "\n",
    "You previously learned about if-else statements. Can you rewrite the code below by only using one *if*, *elif*, and *else* statement to improve readability?\n"
   ]
  },
  {
   "cell_type": "code",
   "execution_count": 1,
   "metadata": {},
   "outputs": [
    {
     "name": "stdout",
     "output_type": "stream",
     "text": [
      "Points are more than 10.\n"
     ]
    }
   ],
   "source": [
    "# Exercise 2\n",
    "points = 12\n",
    "\n",
    "if points > 15:\n",
    "    print(\"Points are more than 10.\")\n",
    "if points == 10:\n",
    "    print(\"Points are exactly 10.\")\n",
    "if points < 10:\n",
    "    print(\"Points are less than 10.\")\n",
    "if points > 10:\n",
    "    print(\"Points are more than 10.\")\n",
    "if points <= 5:\n",
    "    print(\"Points are less than 10.\")\n"
   ]
  },
  {
   "cell_type": "markdown",
   "metadata": {},
   "source": [
    "## Exercise 3\n",
    "\n",
    "In this exercise, you will practice managing namespaces and importing modules and functions in Python. Please implement the following questions:\n",
    "\n",
    "1. Importing Entire Modules:\n",
    "    - Import the entire math module.\n",
    "    - Calculate and print the natural logarithm of 20.\n",
    "\n",
    "2. Importing Specific Functions:\n",
    "    - Import only the pow function from the math module.\n",
    "    - Calculate and print 2 raised to the power of 3.\n",
    "\n",
    "3. Using Aliases for Modules:\n",
    "    - Import the numpy module using the alias np.\n",
    "    - Create a numpy array with the values [1, 4, 9, 16, 25].\n",
    "    - Calculate and print the square root of each element in the array using the numpy module.\n",
    "\n",
    "*Hint:* The numpy module is the fundamental Python package for scientific computing in Python. It uses arrays to store data. Please refer to the [documentation](https://numpy.org/doc/stable/reference/generated/numpy.array.html) for the third question. Do not worry about the details, we will discuss this package in more detail later. "
   ]
  },
  {
   "cell_type": "code",
   "execution_count": 5,
   "metadata": {},
   "outputs": [],
   "source": [
    "# Exercise 3"
   ]
  },
  {
   "cell_type": "markdown",
   "metadata": {},
   "source": [
    "## Voluntary exercise 1:\n",
    "\n",
    "You previously learned about nested statements. Please carefully read the following code. What is its purpose?"
   ]
  },
  {
   "cell_type": "code",
   "execution_count": 3,
   "metadata": {},
   "outputs": [
    {
     "name": "stdout",
     "output_type": "stream",
     "text": [
      "Only the string values: ['banana', 'apple', 'hello']\n"
     ]
    }
   ],
   "source": [
    "random_stuff = [1, \"banana\", \"apple\", 3.14, 7, \"hello\"]\n",
    "strings_only = [] # empty list for filtered vaues\n",
    "\n",
    "# loop through the list\n",
    "for elem in random_stuff:\n",
    "    # if the current element is a string...\n",
    "    if isinstance(elem, str):\n",
    "        # ...then append the value to strings_only\n",
    "        strings_only.append(elem)\n",
    "\n",
    "print(f\"Only the string values: {strings_only}\")"
   ]
  },
  {
   "cell_type": "markdown",
   "metadata": {},
   "source": [
    "Python offers a feature called *list comprehension*. This allows you to write for-loops in a more compact way. List comprehensions are *syntactic sugar*, which means they do not add any additional features and are just a way of making the code a bit shorter (and maybe even nicer to read once you get used to them). Take a look at the following example which prints the elements of the `random_stuff` list:"
   ]
  },
  {
   "cell_type": "code",
   "execution_count": 4,
   "metadata": {},
   "outputs": [
    {
     "name": "stdout",
     "output_type": "stream",
     "text": [
      "1\n",
      "banana\n",
      "apple\n",
      "3.14\n",
      "7\n",
      "hello\n"
     ]
    }
   ],
   "source": [
    "p = [print(elem) for elem in random_stuff]"
   ]
  },
  {
   "cell_type": "markdown",
   "metadata": {},
   "source": [
    "Can you implement the previous code block that filters the strings from the list as a single list comprehension?"
   ]
  },
  {
   "cell_type": "code",
   "execution_count": null,
   "metadata": {},
   "outputs": [],
   "source": [
    "# Voluntary exercise 1\n",
    "strings_only = ...\n",
    "print(f\"Only the string values: {strings_only}\")"
   ]
  }
 ],
 "metadata": {
  "kernelspec": {
   "display_name": "dfc-multiverse",
   "language": "python",
   "name": "python3"
  },
  "language_info": {
   "codemirror_mode": {
    "name": "ipython",
    "version": 3
   },
   "file_extension": ".py",
   "mimetype": "text/x-python",
   "name": "python",
   "nbconvert_exporter": "python",
   "pygments_lexer": "ipython3",
   "version": "3.11.5"
  }
 },
 "nbformat": 4,
 "nbformat_minor": 2
}
