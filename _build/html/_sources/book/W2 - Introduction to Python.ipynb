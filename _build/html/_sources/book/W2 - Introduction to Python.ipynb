{
 "cells": [
  {
   "cell_type": "markdown",
   "id": "c795135a",
   "metadata": {},
   "source": [
    "# W2 - Introduction to Python\n",
    "\n",
    "The Python programming language is a *general purpose* language, which means it is widely used in many fields, including statistics and neuroimaging. Python is a *high-level, interpreted* language, which means it offers a high level of abstraction and you do not need to worry about *low-level* things like memory management. Its syntax is also relatively simple and aims to be readable.\n",
    "\n",
    "\n",
    "## 1.1 Variables and data types\n",
    "\n",
    "As in other programming languages, variables are used to store data of different values or types (hence the name *variable*). In Python, you declare a variable by writing its name and then assigning its value with the equal (=) sign:"
   ]
  },
  {
   "cell_type": "code",
   "execution_count": 1,
   "id": "f5edcf5d",
   "metadata": {},
   "outputs": [],
   "source": [
    "my_variable = 4"
   ]
  },
  {
   "cell_type": "markdown",
   "id": "b19c94fb",
   "metadata": {},
   "source": [
    "Notice that when we initialize a variable, we do not need to specify its *type* (e.g. it being an integer or a string), as Python is *dynamically typed*, which means it figures out your desired variable type by itself once you run the program. This means, you can also simply overwrite your previously created variable with for example a character string:"
   ]
  },
  {
   "cell_type": "code",
   "execution_count": 2,
   "id": "1d408273",
   "metadata": {},
   "outputs": [],
   "source": [
    "my_variable = \"Hello World\""
   ]
  },
  {
   "cell_type": "markdown",
   "id": "3684a1de",
   "metadata": {},
   "source": [
    "If you want to know what 's currently stored in your variable, you can use the `print()` function:"
   ]
  },
  {
   "cell_type": "code",
   "execution_count": 3,
   "id": "43bcca4f",
   "metadata": {},
   "outputs": [
    {
     "name": "stdout",
     "output_type": "stream",
     "text": [
      "Hello World\n"
     ]
    }
   ],
   "source": [
    "print(my_variable)"
   ]
  },
  {
   "cell_type": "markdown",
   "id": "c3b57d1c",
   "metadata": {},
   "source": [
    "**Note:** If you are working in an interactive environment like the Jupyter notebooks which we will use in the exercises, you might not even need to write print as the last line of the code cell is automatically evaluated.\n",
    "\n",
    "## 1.2 Built-in types\n",
    "\n",
    "All general-purpose languages provide the programmer with different *types* of variables as the basic building blocks programs are made up."
   ]
  }
 ],
 "metadata": {
  "jupytext": {
   "formats": "md:myst",
   "text_representation": {
    "extension": ".md",
    "format_name": "myst",
    "format_version": 0.13,
    "jupytext_version": "1.11.5"
   }
  },
  "kernelspec": {
   "display_name": "Python 3",
   "language": "python",
   "name": "python3"
  },
  "language_info": {
   "codemirror_mode": {
    "name": "ipython",
    "version": 3
   },
   "file_extension": ".py",
   "mimetype": "text/x-python",
   "name": "python",
   "nbconvert_exporter": "python",
   "pygments_lexer": "ipython3",
   "version": "3.11.5"
  },
  "source_map": [
   13,
   24,
   26,
   30,
   32,
   36,
   38
  ]
 },
 "nbformat": 4,
 "nbformat_minor": 5
}