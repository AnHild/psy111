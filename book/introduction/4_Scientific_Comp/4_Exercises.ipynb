{
 "cells": [
  {
   "cell_type": "markdown",
   "metadata": {},
   "source": [
    "# 4.4 Exercises"
   ]
  },
  {
   "cell_type": "markdown",
   "metadata": {},
   "source": [
    "## Exercise 1: Arrays\n",
    "\n",
    "You previously learned about how to create n-dimensional arrays whith numpy. Pleas extend the example shown in Section 4.1 to create a three-dimensional array whith shape (3,3,3). \n",
    "\n",
    "How would such a shape look in the real world? Print the array on the screen. Make sure you understand how the values\n",
    "displayed visually map onto the dimensions of the array.\n",
    "\n",
    "Hint: A three-diensional array can be seen as a list of lists of lists.\n"
   ]
  },
  {
   "cell_type": "code",
   "execution_count": null,
   "metadata": {},
   "outputs": [],
   "source": [
    "# Exercise 1"
   ]
  },
  {
   "cell_type": "markdown",
   "metadata": {},
   "source": [
    "## Exercise 2: Arrays\n"
   ]
  },
  {
   "cell_type": "code",
   "execution_count": 1,
   "metadata": {},
   "outputs": [
    {
     "name": "stdout",
     "output_type": "stream",
     "text": [
      "Points are more than 10.\n"
     ]
    }
   ],
   "source": [
    "# Exercise 2\n"
   ]
  },
  {
   "cell_type": "markdown",
   "metadata": {},
   "source": [
    "## Exercise 3:"
   ]
  },
  {
   "cell_type": "code",
   "execution_count": 5,
   "metadata": {},
   "outputs": [],
   "source": [
    "# Exercise 3"
   ]
  },
  {
   "cell_type": "markdown",
   "metadata": {},
   "source": [
    "## Exercise 4: Plotting with matplotlib\n",
    "\n",
    "The `plot` method has multiple other keyword arguments to control the appearance of\n",
    "its results. For example, the color keyword argument controls the color of the lines.\n",
    "One way to specify the color of each line is by using a string that is one of the named\n",
    "colors specified in the [Matplotlib documentation](https://matplotlib.org/stable/gallery/color/named_colors.html). Use this keyword argument to make the three lines in the plot more distinguishable from each other using colors that you find\n",
    "pleasing."
   ]
  },
  {
   "cell_type": "code",
   "execution_count": null,
   "metadata": {},
   "outputs": [],
   "source": [
    "from matplotlib import pyplot as plt\n",
    "\n",
    "trials = [1, 2, 3, 4, 5, 6]\n",
    "first_block = [50, 51.7, 58.8, 68.8, 71.9, 77.9]\n",
    "middle_block = [50, 78.8, 83, 84.2, 90.1, 92.7]\n",
    "last_block = [50, 96.9, 97.8, 98.1, 98.8, 98.7]\n",
    "\n",
    "fig, ax = plt.subplots()\n",
    "\n",
    "ax.plot(trials, first_block, marker='o', linestyle='--', label=\"First block\")\n",
    "ax.plot(trials, middle_block, marker='v', linestyle='--', label=\"Middle block\")\n",
    "ax.plot(trials, last_block, marker='^', linestyle='--', label=\"Last block\")\n",
    "\n",
    "ax.legend()\n",
    "ax.set(xlabel='Trials', ylabel='Percent correct', title='Harlow learning experiment')\n",
    "\n",
    "plt.show()"
   ]
  },
  {
   "cell_type": "markdown",
   "metadata": {},
   "source": [
    "## Voluntary Exercise 1:"
   ]
  },
  {
   "cell_type": "code",
   "execution_count": null,
   "metadata": {},
   "outputs": [],
   "source": []
  }
 ],
 "metadata": {
  "kernelspec": {
   "display_name": "dfc-multiverse",
   "language": "python",
   "name": "python3"
  },
  "language_info": {
   "codemirror_mode": {
    "name": "ipython",
    "version": 3
   },
   "file_extension": ".py",
   "mimetype": "text/x-python",
   "name": "python",
   "nbconvert_exporter": "python",
   "pygments_lexer": "ipython3",
   "version": "3.10.0"
  }
 },
 "nbformat": 4,
 "nbformat_minor": 2
}
